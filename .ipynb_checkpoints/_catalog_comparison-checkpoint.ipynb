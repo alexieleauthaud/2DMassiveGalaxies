{
 "cells": [
  {
   "cell_type": "code",
   "execution_count": 1,
   "metadata": {
    "collapsed": true
   },
   "outputs": [],
   "source": [
    "%matplotlib inline \n",
    "%load_ext autoreload \n",
    "%autoreload 2\n",
    "\n",
    "# A comment\n",
    "\n",
    "from __future__ import (print_function, division, absolute_import)\n",
    "\n",
    "import os\n",
    "import glob\n",
    "import copy\n",
    "import sys\n",
    "import warnings\n",
    "\n",
    "import numpy as np\n",
    "np.set_printoptions(threshold='nan')\n",
    "\n",
    "# Matplotlib related\n",
    "import matplotlib as mpl\n",
    "import matplotlib.pyplot as plt\n",
    "import matplotlib.cm as cmaps\n",
    "plt.rc('text', usetex=False)\n",
    "\n",
    "from astropy.table import \\\n",
    "    Table, \\\n",
    "    Column, \\\n",
    "    vstack, \\\n",
    "    hstack, \\\n",
    "    unique\n",
    "    \n",
    "from astropy.utils.metadata import MergeConflictWarning\n",
    "warnings.filterwarnings('ignore', category=MergeConflictWarning, \n",
    "                        append=True)\n",
    "from astropy import units as u\n",
    "from astropy.coordinates import SkyCoord as sc\n",
    "from astropy.utils.console import ProgressBar\n",
    "from astropy import visualization as vs\n",
    "from astropy.io import fits\n",
    "\n",
    "import statistics as stat\n",
    "\n",
    "import palettable as pal\n",
    "from palettable.colorbrewer.diverging import BrBG_4_r\n",
    "\n",
    "plt.rcParams['figure.figsize'] = (12, 7)"
   ]
  },
  {
   "cell_type": "markdown",
   "metadata": {},
   "source": [
    "# Create Visual Comparing DECaLs  and HSC"
   ]
  },
  {
   "cell_type": "code",
   "execution_count": 2,
   "metadata": {
    "collapsed": true
   },
   "outputs": [],
   "source": [
    "table_hsc = Table.read('hsc_s16a_fastlane_g09_short_full_rband.fits', format = 'fits')\n",
    "table_decals = Table.read ('decals_dr3_g09_short.fits', format = 'fits')\n",
    "\n",
    "table_hsc.sort('rcmodel_mag')\n",
    "table_decals.sort('rmag_decal')\n",
    "\n",
    "ra_hsc = table_hsc['ra']\n",
    "dec_hsc = table_hsc['dec']\n",
    "ra_decals = table_decals['RA']\n",
    "dec_decals = table_decals['DEC']\n"
   ]
  },
  {
   "cell_type": "code",
   "execution_count": 3,
   "metadata": {
    "collapsed": true
   },
   "outputs": [],
   "source": [
    "\"\"\"\n",
    "Absolute magnitude of the Sun in HSC filters\n",
    "Right now, just use the DES filters\n",
    "\"\"\"\n",
    "SUN_G = 5.08\n",
    "SUN_R = 4.62\n",
    "SUN_I = 4.52\n",
    "SUN_Z = 4.52\n",
    "SUN_Y = 4.51\n",
    "\n",
    "from astropy import units as u\n",
    "from astropy.cosmology import FlatLambdaCDM\n",
    "from astropy.coordinates import Distance\n",
    "\n",
    "# Setup the default cosmology\n",
    "cosmo = FlatLambdaCDM(H0=70, Om0=0.3)\n",
    "\n",
    "def luminosity2mag(luminosity, redshift, absmag_sun):\n",
    "    \"\"\"\n",
    "    Convert the luminosity back to absolute magnitude: \n",
    "        absmag = absmag_sun - (2.5 * luminosity)\n",
    "    \n",
    "    Use redshift to estimate the distance modulus under \n",
    "    assumed cosmology.\n",
    "    More on this topic please read: https://en.wikipedia.org/wiki/Distance_modulus\n",
    "    \n",
    "    Here we use the FlatLambdaCDM cosmology, assuming \n",
    "        Hubble constant: H0 = 70 km/s/Mpc; \n",
    "        Mass density parameter: Omega_m = 0.3\n",
    "    \n",
    "    Then convert the absolute magnitude back to apparent\n",
    "    magnitude:\n",
    "        mag = absmag + distmod \n",
    "    \"\"\"\n",
    "    \n",
    "    # Convert luminosity into absolute magnitude with the \n",
    "    # help of the absolute magnitude of Sun in this filter\n",
    "    absmag = absmag_sun - (2.5 * luminosity) \n",
    "    \n",
    "    # Estimate the distance modulus given redshift \n",
    "    # and convert the absolute magnitude back to apparent one\n",
    "    return (absmag + \n",
    "            Distance(z=redshift, cosmology=cosmo).distmod.value)\n",
    "    \n",
    "\"\"\"\n",
    "The luminosity2mag() function should work with array\n",
    "So using the current table, you should be able to convert \n",
    "the luminosity within 100 kpc: `lum_100` into magnitude using\n",
    "\"\"\"\n",
    "mag_r_100kpc = luminosity2mag(table_hsc['lum_100_r'], \n",
    "                              table_hsc['z_best'], \n",
    "                              SUN_R)\n",
    "\n",
    "\"\"\"\n",
    "This magnitude has been corrected for Galactic extinction.\n",
    "You do not need to do that again. \n",
    "\n",
    "We should have used mag_r_100, but since we do not have them \n",
    "right now, let's use the CModel (r-i) color to convert the \n",
    "i-band magnitude into r-band magnitude first. \n",
    "\n",
    "Color here describes the magnitude difference between two filters: \n",
    "    (g-i)_cmodel = gcmodel_mag - icmodel_mag\n",
    "\n",
    "For massive galaxies in this sample, their spectral energy\n",
    "distributions (SED) are quite similar, and using a simple \n",
    "color conversion is not a terrible idea.  \n",
    "\"\"\" \n",
    "    \n",
    "table_hsc.add_column(mag_r_100kpc, name='mag_r_100kpc')\n",
    "# Then you can use this magnitude for comparison."
   ]
  },
  {
   "cell_type": "code",
   "execution_count": 4,
   "metadata": {
    "collapsed": true
   },
   "outputs": [],
   "source": [
    "hsc = sc(ra=ra_hsc*u.degree, dec=dec_hsc*u.degree)  \n",
    "decals = sc(ra=ra_decals*u.degree, dec=dec_decals*u.degree)  \n",
    "idx, d2d, d3d = hsc.match_to_catalog_sky(decals)"
   ]
  },
  {
   "cell_type": "code",
   "execution_count": 5,
   "metadata": {
    "collapsed": true
   },
   "outputs": [],
   "source": [
    "#d2d  cut\n",
    "idx_use = np.asarray(d2d.to(u.arcsec))<=1.0"
   ]
  },
  {
   "cell_type": "code",
   "execution_count": 6,
   "metadata": {
    "collapsed": true
   },
   "outputs": [],
   "source": [
    "#merge catalogs and apply d2d cut\n",
    "table_merge = hstack([table_hsc, table_decals[idx]])\n",
    "table_use = table_merge[idx_use]"
   ]
  },
  {
   "cell_type": "code",
   "execution_count": 7,
   "metadata": {
    "collapsed": true
   },
   "outputs": [],
   "source": [
    "#get columns into useful arrays, accounting for error\n",
    "r_hsc = table_use['mag_r_100kpc']\n",
    "r_decal = table_use['rmag_decal'] - table_use['a_r_decal']\n",
    "\n",
    "#apply difference in filter response curve\n",
    "r_hsc_corr = [x-0.07 for x in r_hsc]\n",
    "\n",
    "#get magnitude differences and stellar masses\n",
    "r_diff = r_hsc_corr - r_decal \n",
    "lambda_redm = table_use['lambda_redm']\n",
    "BCG = [x>0 for x in lambda_redm]"
   ]
  },
  {
   "cell_type": "code",
   "execution_count": 8,
   "metadata": {
    "collapsed": true
   },
   "outputs": [],
   "source": [
    "#split into two redshift bins\n",
    "hsc_z = table_use['z_best']"
   ]
  },
  {
   "cell_type": "code",
   "execution_count": 9,
   "metadata": {
    "collapsed": true
   },
   "outputs": [],
   "source": [
    "#only graph galaxies with mass > 11.5\n",
    "cut_idx = [x>11.5 for x in table_use['logm_100']]"
   ]
  },
  {
   "cell_type": "code",
   "execution_count": 10,
   "metadata": {
    "collapsed": true
   },
   "outputs": [],
   "source": [
    "#label arrays\n",
    "xx = r_hsc[cut_idx]\n",
    "yy = r_diff[cut_idx]\n",
    "cc = np.array(BCG)[cut_idx]\n",
    "zz = hsc_z[cut_idx]\n",
    "\n",
    "idx_finite = ((np.isfinite(xx)) & np.isfinite(yy) & np.isfinite(zz))\n",
    "\n",
    "xx_use = xx[idx_finite]\n",
    "yy_use = yy[idx_finite]\n",
    "zz_use = zz[idx_finite]\n",
    "#cc_use = cc[idx_finite]"
   ]
  },
  {
   "cell_type": "code",
   "execution_count": 11,
   "metadata": {
    "collapsed": true
   },
   "outputs": [],
   "source": [
    "# set redshift bins\n",
    "idx_1 = (zz_use < .4)\n",
    "idx_2 = (zz_use >.4)"
   ]
  },
  {
   "cell_type": "code",
   "execution_count": 12,
   "metadata": {
    "collapsed": true
   },
   "outputs": [],
   "source": [
    "cc_use = [cc[i] for i in range(len(cc)) if (idx_finite[i])]\n",
    "c_1 = [cc_use[i] for i in range(len(cc_use)) if (zz_use[i]<.4)]\n",
    "c_2 = [cc_use[i] for i in range(len(cc_use)) if (zz_use[i]>.4)]\n",
    "\n",
    "#set colors for graphs\n",
    "c = 'darkblue'\n",
    "c_k = BrBG_4_r.get_mpl_colormap()"
   ]
  },
  {
   "cell_type": "code",
   "execution_count": 13,
   "metadata": {
    "scrolled": false
   },
   "outputs": [
    {
     "name": "stderr",
     "output_type": "stream",
     "text": [
      "/Users/danecross/anaconda/lib/python3.6/site-packages/numpy/core/fromnumeric.py:639: UserWarning: Warning: 'partition' will ignore the 'mask' of the MaskedColumn.\n",
      "  a.partition(kth, axis=axis, kind=kind, order=order)\n",
      "/Users/danecross/anaconda/lib/python3.6/site-packages/matplotlib/cbook.py:2649: UserWarning: Saw kwargs ['lw', 'linewidth'] which are all aliases for 'linewidth'.  Kept value from 'linewidth'\n",
      "  seen=seen, canon=canonical, used=seen[-1]))\n"
     ]
    },
    {
     "data": {
      "text/plain": [
       "<matplotlib.legend.Legend at 0x119212588>"
      ]
     },
     "execution_count": 13,
     "metadata": {},
     "output_type": "execute_result"
    },
    {
     "data": {
      "image/png": "[encoded data removed]",
      "text/plain": [
       "<matplotlib.figure.Figure at 0x119156198>"
      ]
     },
     "metadata": {},
     "output_type": "display_data"
    }
   ],
   "source": [
    "fig, axarr = plt.subplots(1,2)\n",
    "#fig.subplots_adjust(hspace=0.5)\n",
    "\n",
    "total_bins = 10\n",
    "\n",
    "\"\"\"plot redshift bin 1\"\"\"\n",
    "axarr[0].scatter(xx_use[idx_1], yy_use[idx_1],\n",
    "                   c=c_1,\n",
    "                   label='_nolegend_',\n",
    "                   cmap=c_k, \n",
    "                   alpha=0.7, s=15)\n",
    "axarr[0].set_title(r'$z < 0.400$', \n",
    "                     fontsize=20)\n",
    "\n",
    "#plot runing median and +/- 1 sigma\n",
    "bins = np.linspace(xx_use[idx_1].min(), xx_use[idx_1].max(), total_bins)\n",
    "delta = bins[1]-bins[0]\n",
    "idx = np.digitize(xx_use[idx_1], bins)\n",
    "\n",
    "running_median = [np.median(yy_use[idx_1][idx==k]) for k in range(3,total_bins)]\n",
    "running_sixteen = [np.percentile(yy_use[idx_1][idx==k], 16) for k in range(3,total_bins)]\n",
    "running_eighty_four = [np.percentile(yy_use[idx_1][idx==k], 84) for k in range(3,total_bins)]\n",
    "axarr[0].plot(bins[3:total_bins]-delta/2,running_median,c=c,linewidth=2.0,lw=4,alpha=.8)\n",
    "axarr[0].plot(bins[3:total_bins]-delta/2 ,running_sixteen,'-.',c=c,linewidth=2.0,lw=4,alpha=.8)\n",
    "axarr[0].plot(bins[3:total_bins]-delta/2 ,running_eighty_four,'-.',c=c,linewidth=2.0,lw=4,alpha=.8)\n",
    "\n",
    "\"\"\"plot redshift bin 2\"\"\"\n",
    "axarr[1].scatter(xx_use[idx_2], yy_use[idx_2],\n",
    "                   c=c_2,\n",
    "                   label='_nolegend_',\n",
    "                   cmap=c_k, \n",
    "                   alpha=0.7, s=15)\n",
    "axarr[1].set_title(r'$z > 0.400$', \n",
    "                     fontsize=20)\n",
    "\n",
    "#set up runing median, +/- 1 sigma\n",
    "bins = np.linspace(xx_use[idx_2].min(), xx_use[idx_2].max(), total_bins)\n",
    "delta = bins[1]-bins[0]\n",
    "idx = np.digitize(xx_use[idx_2], bins)\n",
    "\n",
    "running_median = [np.median(yy_use[idx_2][idx==k]) for k in range(1,total_bins)]\n",
    "running_sixteen = [np.percentile(yy_use[idx_2][idx==k], 16) for k in range(1,total_bins)]\n",
    "running_eighty_four = [np.percentile(yy_use[idx_2][idx==k], 84) for k in range(1,total_bins)]\n",
    "axarr[1].plot(bins[1:total_bins]-delta/2 ,running_median,c=c,linewidth=2.0,lw=4,alpha=.8,label='median')\n",
    "axarr[1].plot(bins[1:total_bins]-delta/2 ,running_sixteen,'-.',c=c,linewidth=2.0,lw=4,alpha=.8,label='1 sigma')\n",
    "axarr[1].plot(bins[1:total_bins]-delta/2 ,running_eighty_four,'-.',c=c,linewidth=2.0,lw=4,alpha=.8)\n",
    "\n",
    "\n",
    "\n",
    "\n",
    "for i in range(2):\n",
    "    subplot = axarr[i]\n",
    "    \n",
    "    subplot.set_xlim(17.6, 20.5)\n",
    "    subplot.set_ylim(-1, 1)\n",
    "    \n",
    "    # zorder=0 puts the grid in the background\n",
    "    subplot.grid(alpha=0.3, zorder=0)\n",
    "    \n",
    "    subplot.set_xlabel(r'$r_{\\rm HSC}\\ ({\\rm mag})$', fontsize=20)\n",
    "    subplot.set_ylabel(r'$r_{\\rm HSC}-r_{\\rm DECaLS}\\ ({\\rm mag})$', \n",
    "                       fontsize=15)\n",
    "    \n",
    "    subplot.axhline(0.0, linewidth=2.0, alpha=0.5, c='k', \n",
    "                    zorder=0, linestyle='--', dashes=(10, 4))\n",
    "    \n",
    "    for tick in subplot.xaxis.get_major_ticks():\n",
    "        tick.label.set_fontsize(13) \n",
    "    for tick in subplot.yaxis.get_major_ticks():\n",
    "        tick.label.set_fontsize(13) \n",
    "    \n",
    "plt.suptitle('R Band Distributions\\n', fontsize=20)\n",
    "fig.tight_layout(rect=[0, 0.4, 1, 0.95])\n",
    "\n",
    "handles, labels = axarr[1].get_legend_handles_labels()\n",
    "fig.legend(handles=handles,labels=labels, loc=2, fontsize=13)"
   ]
  },
  {
   "cell_type": "markdown",
   "metadata": {},
   "source": [
    "# Note Outliers, output to fits file"
   ]
  },
  {
   "cell_type": "code",
   "execution_count": 14,
   "metadata": {
    "collapsed": true
   },
   "outputs": [],
   "source": [
    "pos_sigma = [x for x in yy_use if x < np.percentile(yy_use, 16)]\n",
    "neg_sigma = [x for x in yy_use if x > np.percentile(yy_use, 84)]\n",
    "\n",
    "outliers = pos_sigma.append(neg_sigma)\n",
    "table_merge = hstack([table_hsc, table_decals[idx]])\n",
    "table_use = table_merge[idx_use]"
   ]
  },
  {
   "cell_type": "code",
   "execution_count": 15,
   "metadata": {
    "collapsed": true
   },
   "outputs": [],
   "source": [
    "table_out = table_use[cut_idx][idx_finite]\n",
    "idx_b = [(x > np.percentile(yy_use, 84))or(x < np.percentile(yy_use, 16)) for x in yy_use]\n",
    "\n",
    "r_b = table_out['ra', 'dec', 'object_id'][idx_b]\n",
    "tbhdu = fits.BinTableHDU.from_columns(\n",
    "     [fits.Column(name='ra', format='D', array=np.array(r_b['ra'])),\n",
    "      fits.Column(name='dec', format='D', array=np.array(r_b['dec'])),\n",
    "      fits.Column(name='object_id', format = 'K', array=np.array(r_b['object_id']))])\n",
    "tbhdu.writeto('_r_b.fits')"
   ]
  },
  {
   "cell_type": "code",
   "execution_count": null,
   "metadata": {
    "collapsed": true
   },
   "outputs": [],
   "source": []
  }
 ],
 "metadata": {
  "kernelspec": {
   "display_name": "Python 3",
   "language": "python",
   "name": "python3"
  },
  "language_info": {
   "codemirror_mode": {
    "name": "ipython",
    "version": 3
   },
   "file_extension": ".py",
   "mimetype": "text/x-python",
   "name": "python",
   "nbconvert_exporter": "python",
   "pygments_lexer": "ipython3",
   "version": "3.6.1"
  }
 },
 "nbformat": 4,
 "nbformat_minor": 2
}
