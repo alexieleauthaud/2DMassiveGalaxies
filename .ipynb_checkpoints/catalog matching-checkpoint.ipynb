{
 "cells": [
  {
   "cell_type": "code",
   "execution_count": 2,
   "metadata": {
    "collapsed": true
   },
   "outputs": [],
   "source": [
    "%matplotlib inline \n",
    "%load_ext autoreload \n",
    "%autoreload 2\n",
    "\n",
    "# A comment\n",
    "\n",
    "from __future__ import (print_function, division, absolute_import)\n",
    "\n",
    "import os\n",
    "import glob\n",
    "import copy\n",
    "import sys\n",
    "import warnings\n",
    "\n",
    "import numpy as np\n",
    "\n",
    "# Matplotlib related\n",
    "import matplotlib as mpl\n",
    "import matplotlib.pyplot as plt\n",
    "plt.rc('text', usetex=True)\n",
    "\n",
    "from astropy.table import \\\n",
    "    Table, \\\n",
    "    Column, \\\n",
    "    vstack, \\\n",
    "    unique\n",
    "    \n",
    "from astropy.utils.metadata import MergeConflictWarning\n",
    "warnings.filterwarnings('ignore', category=MergeConflictWarning, \n",
    "                        append=True)\n",
    "from astropy import units as u\n",
    "from astropy.coordinates import SkyCoord\n",
    "from astropy.utils.console import ProgressBar\n"
   ]
  },
  {
   "cell_type": "code",
   "execution_count": 3,
   "metadata": {},
   "outputs": [],
   "source": [
    "table_hsc = Table.read('hsc_s16a_fastlane_g09_short.fits', format = 'fits')\n",
    "table_decals = Table.read ('decals_dr3_g09_short.fits', format = 'fits')\n",
    "\n",
    "table_decals.sort('RA')\n",
    "table_hsc.sort('ra')\n",
    "\n",
    "ra_hsc = table_hsc['ra']\n",
    "dec_hsc = table_hsc['dec']\n",
    "ra_decals = table_decals['RA']\n",
    "dec_decals = table_decals['DEC']"
   ]
  },
  {
   "cell_type": "code",
   "execution_count": 4,
   "metadata": {
    "collapsed": true
   },
   "outputs": [],
   "source": [
    "hsc = SkyCoord(ra=ra_hsc*u.degree, dec=dec_hsc*u.degree)  \n",
    "decals = SkyCoord(ra=ra_decals*u.degree, dec=dec_decals*u.degree)  \n",
    "idx, d2d, d3d = hsc.match_to_catalog_sky(decals)"
   ]
  },
  {
   "cell_type": "markdown",
   "metadata": {},
   "source": [
    "Now idx are indices into decals catalog that are the closest objects to each of the coordinates in hsc catalog, d2d are the on-sky distances between them, and d3d are the 3-dimensional distances. \n",
    "\n",
    "now we get arrays of the luminosities and plot them"
   ]
  },
  {
   "cell_type": "code",
   "execution_count": 57,
   "metadata": {},
   "outputs": [],
   "source": [
    "#decals[idx]\n",
    "decals_ra = table_decals['RA']"
   ]
  },
  {
   "cell_type": "code",
   "execution_count": 6,
   "metadata": {},
   "outputs": [
    {
     "data": {
      "text/plain": [
       "<SkyCoord (ICRS): (ra, dec) in deg\n",
       "    [( 128.48161382,  0.88032436), ( 128.50064198,  0.88333973),\n",
       "     ( 128.6241275 ,  0.99793648), ..., ( 141.0342025 ,  4.38089615),\n",
       "     ( 141.03655359,  2.15163696), ( 141.05167711, -0.0583701 )]>"
      ]
     },
     "execution_count": 6,
     "metadata": {},
     "output_type": "execute_result"
    }
   ],
   "source": [
    "hsc"
   ]
  },
  {
   "cell_type": "code",
   "execution_count": 7,
   "metadata": {
    "collapsed": true
   },
   "outputs": [],
   "source": [
    "hsc_r_mag = table_hsc['rcmodel_mag']\n",
    "hsc_g_mag = table_hsc['gcmodel_mag']\n",
    "hsc_z_mag = table_hsc['zcmodel_mag']"
   ]
  },
  {
   "cell_type": "code",
   "execution_count": 42,
   "metadata": {},
   "outputs": [],
   "source": [
    "decals_r_mag = []\n",
    "decals_g_mag = []\n",
    "decals_z_mag = []\n"
   ]
  },
  {
   "cell_type": "code",
   "execution_count": null,
   "metadata": {},
   "outputs": [],
   "source": []
  }
 ],
 "metadata": {
  "kernelspec": {
   "display_name": "Python 3",
   "language": "python",
   "name": "python3"
  },
  "language_info": {
   "codemirror_mode": {
    "name": "ipython",
    "version": 3
   },
   "file_extension": ".py",
   "mimetype": "text/x-python",
   "name": "python",
   "nbconvert_exporter": "python",
   "pygments_lexer": "ipython3",
   "version": "3.6.1"
  }
 },
 "nbformat": 4,
 "nbformat_minor": 2
}
