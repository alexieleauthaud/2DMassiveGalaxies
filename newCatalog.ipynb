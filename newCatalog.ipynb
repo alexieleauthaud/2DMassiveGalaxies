{
 "cells": [
  {
   "cell_type": "code",
   "execution_count": 1,
   "metadata": {
    "collapsed": true
   },
   "outputs": [],
   "source": [
    "%matplotlib inline \n",
    "%load_ext autoreload \n",
    "%autoreload 2\n",
    "\n",
    "# A comment\n",
    "\n",
    "from __future__ import (print_function, division, absolute_import)\n",
    "\n",
    "import os\n",
    "import glob\n",
    "import copy\n",
    "import sys\n",
    "import warnings\n",
    "\n",
    "import numpy as np\n",
    "np.set_printoptions(threshold='nan')\n",
    "\n",
    "# Matplotlib related\n",
    "import matplotlib as mpl\n",
    "import matplotlib.pyplot as plt\n",
    "import matplotlib.cm as cmaps\n",
    "plt.rc('text', usetex=False)\n",
    "\n",
    "from astropy.table import \\\n",
    "    Table, \\\n",
    "    Column, \\\n",
    "    vstack, \\\n",
    "    hstack, \\\n",
    "    unique\n",
    "    \n",
    "from astropy.utils.metadata import MergeConflictWarning\n",
    "warnings.filterwarnings('ignore', category=MergeConflictWarning, \n",
    "                        append=True)\n",
    "from astropy import units as u\n",
    "from astropy.coordinates import SkyCoord as sc\n",
    "from astropy.utils.console import ProgressBar\n",
    "from astropy import visualization as vs\n",
    "from astropy.io import fits\n",
    "\n",
    "import statistics as stat\n",
    "\n",
    "import palettable as pal\n",
    "from palettable.colorbrewer.diverging import BrBG_4_r\n",
    "\n",
    "plt.rcParams['figure.figsize'] = (12, 7)"
   ]
  },
  {
   "cell_type": "code",
   "execution_count": 2,
   "metadata": {
    "collapsed": true
   },
   "outputs": [],
   "source": [
    "table_hsc = Table.read('hsc_s16a_fastlane_g09_short_full_rband.fits', format = 'fits')\n",
    "table_decals = Table.read ('decals_dr3_g09_short.fits', format = 'fits')\n",
    "\n",
    "table_hsc.sort('rcmodel_mag')\n",
    "table_decals.sort('rmag_decal')\n",
    "\n",
    "ra_hsc = table_hsc['ra']\n",
    "dec_hsc = table_hsc['dec']\n",
    "ra_decals = table_decals['RA']\n",
    "dec_decals = table_decals['DEC']\n"
   ]
  },
  {
   "cell_type": "code",
   "execution_count": 3,
   "metadata": {},
   "outputs": [],
   "source": [
    "\"\"\"\n",
    "Absolute magnitude of the Sun in HSC filters\n",
    "Right now, just use the DES filters\n",
    "\"\"\"\n",
    "SUN_G = 5.08\n",
    "SUN_R = 4.62\n",
    "SUN_I = 4.52\n",
    "SUN_Z = 4.52\n",
    "SUN_Y = 4.51\n",
    "\n",
    "from astropy import units as u\n",
    "from astropy.cosmology import FlatLambdaCDM\n",
    "from astropy.coordinates import Distance\n",
    "\n",
    "# Setup the default cosmology\n",
    "cosmo = FlatLambdaCDM(H0=70, Om0=0.3)\n",
    "\n",
    "def luminosity2mag(luminosity, redshift, absmag_sun):\n",
    "    \"\"\"\n",
    "    Convert the luminosity back to absolute magnitude: \n",
    "        absmag = absmag_sun - (2.5 * luminosity)\n",
    "    \n",
    "    Use redshift to estimate the distance modulus under \n",
    "    assumed cosmology.\n",
    "    More on this topic please read: https://en.wikipedia.org/wiki/Distance_modulus\n",
    "    \n",
    "    Here we use the FlatLambdaCDM cosmology, assuming \n",
    "        Hubble constant: H0 = 70 km/s/Mpc; \n",
    "        Mass density parameter: Omega_m = 0.3\n",
    "    \n",
    "    Then convert the absolute magnitude back to apparent\n",
    "    magnitude:\n",
    "        mag = absmag + distmod \n",
    "    \"\"\"\n",
    "    \n",
    "    # Convert luminosity into absolute magnitude with the \n",
    "    # help of the absolute magnitude of Sun in this filter\n",
    "    absmag = absmag_sun - (2.5 * luminosity) \n",
    "    \n",
    "    # Estimate the distance modulus given redshift \n",
    "    # and convert the absolute magnitude back to apparent one\n",
    "    return (absmag + \n",
    "            Distance(z=redshift, cosmology=cosmo).distmod.value)\n",
    "    \n",
    "\"\"\"\n",
    "The luminosity2mag() function should work with array\n",
    "So using the current table, you should be able to convert \n",
    "the luminosity within 100 kpc: `lum_100` into magnitude using\n",
    "\"\"\"\n",
    "mag_r_100kpc = luminosity2mag(table_hsc['lum_100_r'], \n",
    "                              table_hsc['z_best'], \n",
    "                              SUN_R)\n",
    "\n",
    "\"\"\"\n",
    "This magnitude has been corrected for Galactic extinction.\n",
    "You do not need to do that again. \n",
    "\n",
    "We should have used mag_r_100, but since we do not have them \n",
    "right now, let's use the CModel (r-i) color to convert the \n",
    "i-band magnitude into r-band magnitude first. \n",
    "\n",
    "Color here describes the magnitude difference between two filters: \n",
    "    (g-i)_cmodel = gcmodel_mag - icmodel_mag\n",
    "\n",
    "For massive galaxies in this sample, their spectral energy\n",
    "distributions (SED) are quite similar, and using a simple \n",
    "color conversion is not a terrible idea.  \n",
    "\"\"\" \n",
    "    \n",
    "table_hsc.add_column(mag_r_100kpc, name='mag_r_100kpc')\n",
    "# Then you can use this magnitude for comparison."
   ]
  },
  {
   "cell_type": "code",
   "execution_count": 4,
   "metadata": {
    "collapsed": true
   },
   "outputs": [],
   "source": [
    "hsc = sc(ra=ra_hsc*u.degree, dec=dec_hsc*u.degree)  \n",
    "decals = sc(ra=ra_decals*u.degree, dec=dec_decals*u.degree)  \n",
    "idx, d2d, d3d = hsc.match_to_catalog_sky(decals)"
   ]
  },
  {
   "cell_type": "code",
   "execution_count": 5,
   "metadata": {
    "collapsed": true
   },
   "outputs": [],
   "source": [
    "#d2d  cut\n",
    "idx_use = np.asarray(d2d.to(u.arcsec))<=3.0"
   ]
  },
  {
   "cell_type": "code",
   "execution_count": 6,
   "metadata": {
    "collapsed": true
   },
   "outputs": [],
   "source": [
    "#merge catalogs and apply d2d cut\n",
    "table_merge = hstack([table_hsc, table_decals[idx]])\n",
    "table_use = table_merge[idx_use]"
   ]
  },
  {
   "cell_type": "code",
   "execution_count": 7,
   "metadata": {
    "collapsed": true
   },
   "outputs": [],
   "source": [
    "#get columns into useful arrays, accounting for error\n",
    "r_hsc = table_use['mag_r_100kpc']\n",
    "r_decal = table_use['rmag_decal'] - table_use['a_r_decal']\n",
    "\n",
    "#apply difference in filter response curve\n",
    "r_hsc_corr = [x-0.7 for x in r_hsc]\n",
    "\n",
    "#get magnitude differences and stellar masses\n",
    "r_diff = r_hsc_corr - r_decal \n",
    "lambda_redm = table_use['lambda_redm']\n",
    "BCG = [x>0 for x in lambda_redm]"
   ]
  },
  {
   "cell_type": "code",
   "execution_count": 8,
   "metadata": {
    "collapsed": true
   },
   "outputs": [],
   "source": [
    "#split into two redshift bins\n",
    "hsc_z = table_use['z_best']"
   ]
  },
  {
   "cell_type": "code",
   "execution_count": 9,
   "metadata": {},
   "outputs": [],
   "source": [
    "#only graph galaxies with mass > 11.5\n",
    "cut_idx = [x>11.5 for x in table_use['logm_100']]"
   ]
  },
  {
   "cell_type": "code",
   "execution_count": 10,
   "metadata": {
    "collapsed": true
   },
   "outputs": [],
   "source": [
    "#label arrays\n",
    "xx = r_hsc[cut_idx]\n",
    "yy = r_diff[cut_idx]\n",
    "cc = np.array(BCG)[cut_idx]\n",
    "zz = hsc_z[cut_idx]\n",
    "\n",
    "idx_finite = ((np.isfinite(xx)) & np.isfinite(yy) & np.isfinite(zz))\n",
    "\n",
    "xx_use = xx[idx_finite]\n",
    "yy_use = yy[idx_finite]\n",
    "zz_use = zz[idx_finite]\n",
    "#cc_use = cc[idx_finite]"
   ]
  },
  {
   "cell_type": "code",
   "execution_count": 11,
   "metadata": {
    "collapsed": true
   },
   "outputs": [],
   "source": [
    "# set redshift bins\n",
    "idx_1 = (zz_use < .4)\n",
    "idx_2 = (zz_use >.4)"
   ]
  },
  {
   "cell_type": "code",
   "execution_count": 12,
   "metadata": {
    "collapsed": true
   },
   "outputs": [],
   "source": [
    "cc_use = [cc[i] for i in range(len(cc)) if (idx_finite[i])]\n",
    "c_1 = [cc_use[i] for i in range(len(cc_use)) if (zz_use[i]<.4)]\n",
    "c_2 = [cc_use[i] for i in range(len(cc_use)) if (zz_use[i]>.4)]\n",
    "\n",
    "#set colors for graphs\n",
    "c = 'darkblue'\n",
    "c_k = BrBG_4_r.get_mpl_colormap()"
   ]
  },
  {
   "cell_type": "code",
   "execution_count": 13,
   "metadata": {
    "scrolled": false
   },
   "outputs": [
    {
     "name": "stderr",
     "output_type": "stream",
     "text": [
      "/Users/danecross/anaconda/lib/python3.6/site-packages/numpy/core/fromnumeric.py:639: UserWarning: Warning: 'partition' will ignore the 'mask' of the MaskedColumn.\n",
      "  a.partition(kth, axis=axis, kind=kind, order=order)\n",
      "/Users/danecross/anaconda/lib/python3.6/site-packages/matplotlib/cbook.py:2649: UserWarning: Saw kwargs ['lw', 'linewidth'] which are all aliases for 'linewidth'.  Kept value from 'linewidth'\n",
      "  seen=seen, canon=canonical, used=seen[-1]))\n"
     ]
    },
    {
     "data": {
      "image/png": "[encoded data removed]",
      "text/plain": [
       "<matplotlib.figure.Figure at 0x11cdcaac8>"
      ]
     },
     "metadata": {},
     "output_type": "display_data"
    }
   ],
   "source": [
    "fig, axarr = plt.subplots(1,2)\n",
    "#fig.subplots_adjust(hspace=0.5)\n",
    "\n",
    "total_bins = 10\n",
    "\n",
    "\"\"\"plot redshift bin 1\"\"\"\n",
    "axarr[0].scatter(xx_use[idx_1], yy_use[idx_1],\n",
    "                   c=c_1,\n",
    "                   label='_nolegend_',\n",
    "                   cmap=c_k, \n",
    "                   alpha=0.7, s=15)\n",
    "axarr[0].set_title(r'$z < 0.400$', \n",
    "                     fontsize=20)\n",
    "\n",
    "#plot runing median and +/- 1 sigma\n",
    "bins = np.linspace(xx_use[idx_1].min(), xx_use[idx_1].max(), total_bins)\n",
    "delta = bins[1]-bins[0]\n",
    "idx = np.digitize(xx_use[idx_1], bins)\n",
    "\n",
    "running_median = [np.median(yy_use[idx_1][idx==k]) for k in range(3,total_bins)]\n",
    "running_sixteen = [np.percentile(yy_use[idx_1][idx==k], 16) for k in range(3,total_bins)]\n",
    "running_eighty_four = [np.percentile(yy_use[idx_1][idx==k], 84) for k in range(3,total_bins)]\n",
    "axarr[0].plot(bins[3:total_bins]-delta/2,running_median,'--',c=c,linewidth=2.0,lw=4,alpha=.8)\n",
    "axarr[0].plot(bins[3:total_bins]-delta/2 ,running_sixteen,'--',c=c,linewidth=2.0,lw=4,alpha=.8)\n",
    "axarr[0].plot(bins[3:total_bins]-delta/2 ,running_eighty_four,'--',c=c,linewidth=2.0,lw=4,alpha=.8)\n",
    "\n",
    "\"\"\"plot redshift bin 2\"\"\"\n",
    "axarr[1].scatter(xx_use[idx_2], yy_use[idx_2],\n",
    "                   c=c_2,\n",
    "                   label='_nolegend_',\n",
    "                   cmap=c_k, \n",
    "                   alpha=0.7, s=15)\n",
    "axarr[1].set_title(r'$z > 0.400$', \n",
    "                     fontsize=20)\n",
    "\n",
    "#set up runing median, +/- 1 sigma\n",
    "bins = np.linspace(xx_use[idx_2].min(), xx_use[idx_2].max(), total_bins)\n",
    "delta = bins[1]-bins[0]\n",
    "idx = np.digitize(xx_use[idx_2], bins)\n",
    "\n",
    "running_median = [np.median(yy_use[idx_2][idx==k]) for k in range(1,total_bins)]\n",
    "running_sixteen = [np.percentile(yy_use[idx_2][idx==k], 16) for k in range(1,total_bins)]\n",
    "running_eighty_four = [np.percentile(yy_use[idx_2][idx==k], 84) for k in range(1,total_bins)]\n",
    "axarr[1].plot(bins[1:total_bins]-delta/2 ,running_median,'--',c=c,linewidth=2.0,lw=4,alpha=.8)\n",
    "axarr[1].plot(bins[1:total_bins]-delta/2 ,running_sixteen,'--',c=c,linewidth=2.0,lw=4,alpha=.8)\n",
    "axarr[1].plot(bins[1:total_bins]-delta/2 ,running_eighty_four,'--',c=c,linewidth=2.0,lw=4,alpha=.8)\n",
    "\n",
    "\n",
    "\n",
    "\n",
    "for i in range(2):\n",
    "    subplot = axarr[i]\n",
    "    \n",
    "    subplot.set_xlim(17.6, 20.5)\n",
    "    subplot.set_ylim(-1, 1)\n",
    "    \n",
    "    # zorder=0 puts the grid in the background\n",
    "    subplot.grid(alpha=0.3, zorder=0)\n",
    "    \n",
    "    subplot.set_xlabel(r'$r_{\\rm HSC}\\ ({\\rm mag})$', fontsize=20)\n",
    "    subplot.set_ylabel(r'$r_{\\rm HSC}-r_{\\rm DECaLS}\\ ({\\rm mag})$', \n",
    "                       fontsize=15)\n",
    "    \n",
    "    subplot.axhline(0.0, linewidth=2.0, alpha=0.5, c='k', \n",
    "                    zorder=0, linestyle='--', dashes=(10, 4))\n",
    "    \n",
    "    for tick in subplot.xaxis.get_major_ticks():\n",
    "        tick.label.set_fontsize(13) \n",
    "    for tick in subplot.yaxis.get_major_ticks():\n",
    "        tick.label.set_fontsize(13) \n",
    "    \n",
    "plt.suptitle('R Band Distributions\\n', fontsize=20)\n",
    "fig.tight_layout(rect=[0, 0.4, 1, 0.95])\n",
    "\n",
    "#cbar_ax = fig.add_axes([1, 0.15, 0.02, 0.7])\n",
    "#cbar = mpl.colorbar.ColorbarBase(cbar_ax, cmap=cmaps.magma, ticks=[0,1])\n",
    "#cbar.set_label(\"Stellar Masses (Solar Masses)\", fontsize=15)\n",
    "#cbar.set_ticklabels([str(12), str(11)])"
   ]
  },
  {
   "cell_type": "code",
   "execution_count": 14,
   "metadata": {},
   "outputs": [
    {
     "name": "stdout",
     "output_type": "stream",
     "text": [
      "2\n"
     ]
    }
   ],
   "source": [
    "outliers_above = [x for x in yy_use[idx_1] if (x>.4)]\n",
    "print(len(outliers_above))"
   ]
  },
  {
   "cell_type": "code",
   "execution_count": 15,
   "metadata": {},
   "outputs": [
    {
     "ename": "IndexError",
     "evalue": "boolean index did not match indexed array along dimension 0; dimension is 743 but corresponding boolean dimension is 253",
     "output_type": "error",
     "traceback": [
      "\u001b[0;31m---------------------------------------------------------------------------\u001b[0m",
      "\u001b[0;31mIndexError\u001b[0m                                Traceback (most recent call last)",
      "\u001b[0;32m<ipython-input-15-addc16cab021>\u001b[0m in \u001b[0;36m<module>\u001b[0;34m()\u001b[0m\n\u001b[0;32m----> 1\u001b[0;31m \u001b[0mtable_use\u001b[0m \u001b[0;34m=\u001b[0m \u001b[0mtable_use\u001b[0m\u001b[0;34m[\u001b[0m\u001b[0midx_finite\u001b[0m\u001b[0;34m]\u001b[0m\u001b[0;34m\u001b[0m\u001b[0m\n\u001b[0m\u001b[1;32m      2\u001b[0m \u001b[0midx_b\u001b[0m \u001b[0;34m=\u001b[0m \u001b[0;34m[\u001b[0m\u001b[0;34m(\u001b[0m\u001b[0mx\u001b[0m\u001b[0;34m>\u001b[0m\u001b[0;36m.4\u001b[0m\u001b[0;34m)\u001b[0m \u001b[0;32mfor\u001b[0m \u001b[0mx\u001b[0m \u001b[0;32min\u001b[0m \u001b[0myy_use\u001b[0m\u001b[0;34m[\u001b[0m\u001b[0midx_1\u001b[0m\u001b[0;34m]\u001b[0m\u001b[0;34m]\u001b[0m\u001b[0;34m\u001b[0m\u001b[0m\n\u001b[1;32m      3\u001b[0m \u001b[0;34m\u001b[0m\u001b[0m\n\u001b[1;32m      4\u001b[0m \u001b[0mr_b\u001b[0m \u001b[0;34m=\u001b[0m \u001b[0mtable_use\u001b[0m\u001b[0;34m[\u001b[0m\u001b[0;34m'ra'\u001b[0m\u001b[0;34m,\u001b[0m \u001b[0;34m'dec'\u001b[0m\u001b[0;34m,\u001b[0m \u001b[0;34m'object_id'\u001b[0m\u001b[0;34m]\u001b[0m\u001b[0;34m[\u001b[0m\u001b[0midx_1\u001b[0m\u001b[0;34m]\u001b[0m\u001b[0;34m[\u001b[0m\u001b[0midx_b\u001b[0m\u001b[0;34m]\u001b[0m\u001b[0;34m\u001b[0m\u001b[0m\n\u001b[1;32m      5\u001b[0m tbhdu = fits.BinTableHDU.from_columns(\n",
      "\u001b[0;32m/Users/danecross/anaconda/lib/python3.6/site-packages/astropy/table/table.py\u001b[0m in \u001b[0;36m__getitem__\u001b[0;34m(self, item)\u001b[0m\n\u001b[1;32m   1251\u001b[0m             \u001b[0;31m# is produced by np.where, as in t[np.where(t['a'] > 2)]\u001b[0m\u001b[0;34m\u001b[0m\u001b[0;34m\u001b[0m\u001b[0m\n\u001b[1;32m   1252\u001b[0m             \u001b[0;31m# For all, a new table is constructed with slice of all columns\u001b[0m\u001b[0;34m\u001b[0m\u001b[0;34m\u001b[0m\u001b[0m\n\u001b[0;32m-> 1253\u001b[0;31m             \u001b[0;32mreturn\u001b[0m \u001b[0mself\u001b[0m\u001b[0;34m.\u001b[0m\u001b[0m_new_from_slice\u001b[0m\u001b[0;34m(\u001b[0m\u001b[0mitem\u001b[0m\u001b[0;34m)\u001b[0m\u001b[0;34m\u001b[0m\u001b[0m\n\u001b[0m\u001b[1;32m   1254\u001b[0m         \u001b[0;32melse\u001b[0m\u001b[0;34m:\u001b[0m\u001b[0;34m\u001b[0m\u001b[0m\n\u001b[1;32m   1255\u001b[0m             raise ValueError('Illegal type {0} for table item access'\n",
      "\u001b[0;32m/Users/danecross/anaconda/lib/python3.6/site-packages/astropy/table/table.py\u001b[0m in \u001b[0;36m_new_from_slice\u001b[0;34m(self, slice_)\u001b[0m\n\u001b[1;32m    785\u001b[0m         \u001b[0;32mfor\u001b[0m \u001b[0mcol\u001b[0m \u001b[0;32min\u001b[0m \u001b[0mcols\u001b[0m\u001b[0;34m:\u001b[0m\u001b[0;34m\u001b[0m\u001b[0m\n\u001b[1;32m    786\u001b[0m             \u001b[0mcol\u001b[0m\u001b[0;34m.\u001b[0m\u001b[0minfo\u001b[0m\u001b[0;34m.\u001b[0m\u001b[0m_copy_indices\u001b[0m \u001b[0;34m=\u001b[0m \u001b[0mself\u001b[0m\u001b[0;34m.\u001b[0m\u001b[0m_copy_indices\u001b[0m\u001b[0;34m\u001b[0m\u001b[0m\n\u001b[0;32m--> 787\u001b[0;31m             \u001b[0mnewcol\u001b[0m \u001b[0;34m=\u001b[0m \u001b[0mcol\u001b[0m\u001b[0;34m[\u001b[0m\u001b[0mslice_\u001b[0m\u001b[0;34m]\u001b[0m\u001b[0;34m\u001b[0m\u001b[0m\n\u001b[0m\u001b[1;32m    788\u001b[0m             \u001b[0;32mif\u001b[0m \u001b[0mcol\u001b[0m\u001b[0;34m.\u001b[0m\u001b[0minfo\u001b[0m\u001b[0;34m.\u001b[0m\u001b[0mindices\u001b[0m\u001b[0;34m:\u001b[0m\u001b[0;34m\u001b[0m\u001b[0m\n\u001b[1;32m    789\u001b[0m                 \u001b[0mnewcol\u001b[0m \u001b[0;34m=\u001b[0m \u001b[0mcol\u001b[0m\u001b[0;34m.\u001b[0m\u001b[0minfo\u001b[0m\u001b[0;34m.\u001b[0m\u001b[0mslice_indices\u001b[0m\u001b[0;34m(\u001b[0m\u001b[0mnewcol\u001b[0m\u001b[0;34m,\u001b[0m \u001b[0mslice_\u001b[0m\u001b[0;34m,\u001b[0m \u001b[0mlen\u001b[0m\u001b[0;34m(\u001b[0m\u001b[0mcol\u001b[0m\u001b[0;34m)\u001b[0m\u001b[0;34m)\u001b[0m\u001b[0;34m\u001b[0m\u001b[0m\n",
      "\u001b[0;32mastropy/table/_column_mixins.pyx\u001b[0m in \u001b[0;36mastropy.table._column_mixins._MaskedColumnGetitemShim.__getitem__ (astropy/table/_column_mixins.c:1559)\u001b[0;34m()\u001b[0m\n",
      "\u001b[0;32mastropy/table/_column_mixins.pyx\u001b[0m in \u001b[0;36mastropy.table._column_mixins.base_getitem (astropy/table/_column_mixins.c:1076)\u001b[0;34m()\u001b[0m\n",
      "\u001b[0;32mastropy/table/_column_mixins.pyx\u001b[0m in \u001b[0;36mastropy.table._column_mixins.masked_column_getitem (astropy/table/_column_mixins.c:1414)\u001b[0;34m()\u001b[0m\n",
      "\u001b[0;32m/Users/danecross/anaconda/lib/python3.6/site-packages/numpy/ma/core.py\u001b[0m in \u001b[0;36m__getitem__\u001b[0;34m(self, indx)\u001b[0m\n\u001b[1;32m   3218\u001b[0m         \u001b[0;31m# mask of being reshaped if it hasn't been set up properly yet\u001b[0m\u001b[0;34m\u001b[0m\u001b[0;34m\u001b[0m\u001b[0m\n\u001b[1;32m   3219\u001b[0m         \u001b[0;31m# So it's easier to stick to the current version\u001b[0m\u001b[0;34m\u001b[0m\u001b[0;34m\u001b[0m\u001b[0m\n\u001b[0;32m-> 3220\u001b[0;31m         \u001b[0mdout\u001b[0m \u001b[0;34m=\u001b[0m \u001b[0mself\u001b[0m\u001b[0;34m.\u001b[0m\u001b[0mdata\u001b[0m\u001b[0;34m[\u001b[0m\u001b[0mindx\u001b[0m\u001b[0;34m]\u001b[0m\u001b[0;34m\u001b[0m\u001b[0m\n\u001b[0m\u001b[1;32m   3221\u001b[0m         \u001b[0m_mask\u001b[0m \u001b[0;34m=\u001b[0m \u001b[0mself\u001b[0m\u001b[0;34m.\u001b[0m\u001b[0m_mask\u001b[0m\u001b[0;34m\u001b[0m\u001b[0m\n\u001b[1;32m   3222\u001b[0m \u001b[0;34m\u001b[0m\u001b[0m\n",
      "\u001b[0;32m/Users/danecross/anaconda/lib/python3.6/site-packages/numpy/ma/core.py\u001b[0m in \u001b[0;36m__getitem__\u001b[0;34m(self, indx)\u001b[0m\n\u001b[1;32m   3218\u001b[0m         \u001b[0;31m# mask of being reshaped if it hasn't been set up properly yet\u001b[0m\u001b[0;34m\u001b[0m\u001b[0;34m\u001b[0m\u001b[0m\n\u001b[1;32m   3219\u001b[0m         \u001b[0;31m# So it's easier to stick to the current version\u001b[0m\u001b[0;34m\u001b[0m\u001b[0;34m\u001b[0m\u001b[0m\n\u001b[0;32m-> 3220\u001b[0;31m         \u001b[0mdout\u001b[0m \u001b[0;34m=\u001b[0m \u001b[0mself\u001b[0m\u001b[0;34m.\u001b[0m\u001b[0mdata\u001b[0m\u001b[0;34m[\u001b[0m\u001b[0mindx\u001b[0m\u001b[0;34m]\u001b[0m\u001b[0;34m\u001b[0m\u001b[0m\n\u001b[0m\u001b[1;32m   3221\u001b[0m         \u001b[0m_mask\u001b[0m \u001b[0;34m=\u001b[0m \u001b[0mself\u001b[0m\u001b[0;34m.\u001b[0m\u001b[0m_mask\u001b[0m\u001b[0;34m\u001b[0m\u001b[0m\n\u001b[1;32m   3222\u001b[0m \u001b[0;34m\u001b[0m\u001b[0m\n",
      "\u001b[0;32mastropy/table/_column_mixins.pyx\u001b[0m in \u001b[0;36mastropy.table._column_mixins._ColumnGetitemShim.__getitem__ (astropy/table/_column_mixins.c:1343)\u001b[0;34m()\u001b[0m\n",
      "\u001b[0;32mastropy/table/_column_mixins.pyx\u001b[0m in \u001b[0;36mastropy.table._column_mixins.base_getitem (astropy/table/_column_mixins.c:1076)\u001b[0;34m()\u001b[0m\n",
      "\u001b[0;32mastropy/table/_column_mixins.pyx\u001b[0m in \u001b[0;36mastropy.table._column_mixins.column_getitem (astropy/table/_column_mixins.c:1283)\u001b[0;34m()\u001b[0m\n",
      "\u001b[0;31mIndexError\u001b[0m: boolean index did not match indexed array along dimension 0; dimension is 743 but corresponding boolean dimension is 253"
     ]
    }
   ],
   "source": [
    "table_use = table_use[idx_finite]\n",
    "idx_b = [(x>.4) for x in yy_use[idx_1]]\n",
    "\n",
    "r_b = table_use['ra', 'dec', 'object_id'][idx_1][idx_b]\n",
    "tbhdu = fits.BinTableHDU.from_columns(\n",
    "     [fits.Column(name='ra', format='D', array=np.array(r_b['ra'])),\n",
    "      fits.Column(name='dec', format='D', array=np.array(r_b['dec'])),\n",
    "      fits.Column(name='object_id', format = 'K', array=np.array(r_b['object_id']))])\n",
    "tbhdu.writeto('r_b.fits')"
   ]
  }
 ],
 "metadata": {
  "kernelspec": {
   "display_name": "Python 3",
   "language": "python",
   "name": "python3"
  },
  "language_info": {
   "codemirror_mode": {
    "name": "ipython",
    "version": 3
   },
   "file_extension": ".py",
   "mimetype": "text/x-python",
   "name": "python",
   "nbconvert_exporter": "python",
   "pygments_lexer": "ipython3",
   "version": "3.6.1"
  }
 },
 "nbformat": 4,
 "nbformat_minor": 2
}
