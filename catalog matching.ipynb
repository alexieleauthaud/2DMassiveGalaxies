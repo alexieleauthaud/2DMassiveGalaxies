{
 "cells": [
  {
   "cell_type": "code",
   "execution_count": 1,
   "metadata": {
    "collapsed": true
   },
   "outputs": [],
   "source": [
    "%matplotlib inline \n",
    "%load_ext autoreload \n",
    "%autoreload 2\n",
    "\n",
    "# A comment\n",
    "\n",
    "from __future__ import (print_function, division, absolute_import)\n",
    "\n",
    "import os\n",
    "import glob\n",
    "import copy\n",
    "import sys\n",
    "import warnings\n",
    "\n",
    "import numpy as np\n",
    "\n",
    "# Matplotlib related\n",
    "import matplotlib as mpl\n",
    "import matplotlib.pyplot as plt\n",
    "import matplotlib.cm as cmaps\n",
    "plt.rc('text', usetex=False)\n",
    "\n",
    "from astropy.table import \\\n",
    "    Table, \\\n",
    "    Column, \\\n",
    "    vstack, \\\n",
    "    hstack, \\\n",
    "    unique\n",
    "    \n",
    "from astropy.utils.metadata import MergeConflictWarning\n",
    "warnings.filterwarnings('ignore', category=MergeConflictWarning, \n",
    "                        append=True)\n",
    "from astropy import units as u\n",
    "from astropy.coordinates import SkyCoord as sc\n",
    "from astropy.utils.console import ProgressBar\n",
    "from astropy import visualization as vs\n",
    "\n",
    "import statistics as stat\n",
    "\n",
    "\n",
    "plt.rcParams['figure.figsize'] = (12, 7)"
   ]
  },
  {
   "cell_type": "code",
   "execution_count": 2,
   "metadata": {
    "collapsed": true
   },
   "outputs": [],
   "source": [
    "table_hsc = Table.read('hsc_s16a_fastlane_g09_short.fits', format = 'fits')\n",
    "table_decals = Table.read ('decals_dr3_g09_short.fits', format = 'fits')\n",
    "\n",
    "table_hsc.sort('rcmodel_mag')\n",
    "table_decals.sort('rmag_decal')\n",
    "\n",
    "ra_hsc = table_hsc['ra']\n",
    "dec_hsc = table_hsc['dec']\n",
    "ra_decals = table_decals['RA']\n",
    "dec_decals = table_decals['DEC']\n"
   ]
  },
  {
   "cell_type": "code",
   "execution_count": 3,
   "metadata": {
    "collapsed": true
   },
   "outputs": [],
   "source": [
    "hsc = sc(ra=ra_hsc*u.degree, dec=dec_hsc*u.degree)  \n",
    "decals = sc(ra=ra_decals*u.degree, dec=dec_decals*u.degree)  \n",
    "idx, d2d, d3d = hsc.match_to_catalog_sky(decals)"
   ]
  },
  {
   "cell_type": "markdown",
   "metadata": {},
   "source": [
    "Now idx are indices into decals catalog that are the closest objects to each of the coordinates in hsc catalog, d2d are the on-sky distances between them, and d3d are the 3-dimensional distances. \n",
    "\n",
    "now we get arrays of the luminosities and plot them"
   ]
  },
  {
   "cell_type": "code",
   "execution_count": 4,
   "metadata": {
    "collapsed": true
   },
   "outputs": [],
   "source": [
    "#d2d  cut\n",
    "idx_use = np.asarray(d2d.to(u.arcsec))<=3.0"
   ]
  },
  {
   "cell_type": "code",
   "execution_count": 5,
   "metadata": {
    "collapsed": true
   },
   "outputs": [],
   "source": [
    "#merge catalogs and apply d2d cut\n",
    "table_merge = hstack([table_hsc, table_decals[idx]])\n",
    "table_use = table_merge[idx_use]"
   ]
  },
  {
   "cell_type": "code",
   "execution_count": 6,
   "metadata": {
    "collapsed": true
   },
   "outputs": [],
   "source": [
    "#split into four redshift bins\n",
    "hsc_z = table_use['z_best']\n",
    "#.25-.325, .325-.4, .4-.475, .475-.55\n",
    "idx_1 = (hsc_z < .325)\n",
    "idx_2 = (hsc_z > .325) & (hsc_z<.4)\n",
    "idx_3 = (hsc_z > .4) & (hsc_z<.475)\n",
    "idx_4 = (hsc_z > .475)"
   ]
  },
  {
   "cell_type": "code",
   "execution_count": 7,
   "metadata": {
    "collapsed": true
   },
   "outputs": [],
   "source": [
    "r_hsc = table_use['rcmodel_mag'] - table_use['a_r']\n",
    "r_decal = table_use['rmag_decal'] - table_use['a_r_decal']\n",
    "r_diff = r_hsc - r_decal\n",
    "mass = table_use['logm_100']"
   ]
  },
  {
   "cell_type": "code",
   "execution_count": 43,
   "metadata": {},
   "outputs": [],
   "source": [
    "#copy for altering\n",
    "xx = r_hsc\n",
    "yy = r_diff\n",
    "cc = mass\n",
    "zz = hsc_z\n",
    "\n",
    "idx_finite = ((np.isfinite(xx)) & np.isfinite(yy) & np.isfinite(cc) & np.isfinite(zz))\n",
    "\n",
    "xx_use = xx[idx_finite]\n",
    "yy_use = yy[idx_finite]\n",
    "cc_use = cc[idx_finite]\n",
    "zz_use = zz[idx_finite]\n",
    "\n",
    "idx_1 = (zz_use < .325)\n",
    "idx_2 = ((zz_use > .325) & (zz_use < .400))\n",
    "idx_3 = ((zz_use > .400) & (zz_use < .475))\n",
    "idx_4 = (zz_use > 0.475)\n"
   ]
  },
  {
   "cell_type": "code",
   "execution_count": 48,
   "metadata": {
    "scrolled": false
   },
   "outputs": [
    {
     "name": "stdout",
     "output_type": "stream",
     "text": [
      "565\n"
     ]
    },
    {
     "ename": "IndexError",
     "evalue": "boolean index did not match indexed array along dimension 0; dimension is 2105 but corresponding boolean dimension is 565",
     "output_type": "error",
     "traceback": [
      "\u001b[0;31m---------------------------------------------------------------------------\u001b[0m",
      "\u001b[0;31mIndexError\u001b[0m                                Traceback (most recent call last)",
      "\u001b[0;32m<ipython-input-48-63fce2b8b222>\u001b[0m in \u001b[0;36m<module>\u001b[0;34m()\u001b[0m\n\u001b[1;32m      9\u001b[0m \u001b[0midx\u001b[0m  \u001b[0;34m=\u001b[0m \u001b[0mnp\u001b[0m\u001b[0;34m.\u001b[0m\u001b[0mdigitize\u001b[0m\u001b[0;34m(\u001b[0m\u001b[0mxx_use\u001b[0m\u001b[0;34m[\u001b[0m\u001b[0midx_1\u001b[0m\u001b[0;34m]\u001b[0m\u001b[0;34m,\u001b[0m\u001b[0mbins\u001b[0m\u001b[0;34m)\u001b[0m\u001b[0;34m\u001b[0m\u001b[0m\n\u001b[1;32m     10\u001b[0m \u001b[0mprint\u001b[0m\u001b[0;34m(\u001b[0m\u001b[0mlen\u001b[0m\u001b[0;34m(\u001b[0m\u001b[0myy_use\u001b[0m\u001b[0;34m[\u001b[0m\u001b[0midx\u001b[0m\u001b[0;34m]\u001b[0m\u001b[0;34m)\u001b[0m\u001b[0;34m)\u001b[0m\u001b[0;34m\u001b[0m\u001b[0m\n\u001b[0;32m---> 11\u001b[0;31m \u001b[0mrunning_median\u001b[0m \u001b[0;34m=\u001b[0m \u001b[0;34m[\u001b[0m\u001b[0mnp\u001b[0m\u001b[0;34m.\u001b[0m\u001b[0mmedian\u001b[0m\u001b[0;34m(\u001b[0m\u001b[0myy_use\u001b[0m\u001b[0;34m[\u001b[0m\u001b[0midx\u001b[0m\u001b[0;34m==\u001b[0m\u001b[0mk\u001b[0m\u001b[0;34m]\u001b[0m\u001b[0;34m)\u001b[0m \u001b[0;32mfor\u001b[0m \u001b[0mk\u001b[0m \u001b[0;32min\u001b[0m \u001b[0mrange\u001b[0m\u001b[0;34m(\u001b[0m\u001b[0mtotal_bins\u001b[0m\u001b[0;34m)\u001b[0m\u001b[0;34m]\u001b[0m\u001b[0;34m\u001b[0m\u001b[0m\n\u001b[0m\u001b[1;32m     12\u001b[0m \u001b[0;34m\u001b[0m\u001b[0m\n\u001b[1;32m     13\u001b[0m axarr[0,0].scatter(xx_use[idx_1], yy_use[idx_1],\n",
      "\u001b[0;32m<ipython-input-48-63fce2b8b222>\u001b[0m in \u001b[0;36m<listcomp>\u001b[0;34m(.0)\u001b[0m\n\u001b[1;32m      9\u001b[0m \u001b[0midx\u001b[0m  \u001b[0;34m=\u001b[0m \u001b[0mnp\u001b[0m\u001b[0;34m.\u001b[0m\u001b[0mdigitize\u001b[0m\u001b[0;34m(\u001b[0m\u001b[0mxx_use\u001b[0m\u001b[0;34m[\u001b[0m\u001b[0midx_1\u001b[0m\u001b[0;34m]\u001b[0m\u001b[0;34m,\u001b[0m\u001b[0mbins\u001b[0m\u001b[0;34m)\u001b[0m\u001b[0;34m\u001b[0m\u001b[0m\n\u001b[1;32m     10\u001b[0m \u001b[0mprint\u001b[0m\u001b[0;34m(\u001b[0m\u001b[0mlen\u001b[0m\u001b[0;34m(\u001b[0m\u001b[0myy_use\u001b[0m\u001b[0;34m[\u001b[0m\u001b[0midx\u001b[0m\u001b[0;34m]\u001b[0m\u001b[0;34m)\u001b[0m\u001b[0;34m)\u001b[0m\u001b[0;34m\u001b[0m\u001b[0m\n\u001b[0;32m---> 11\u001b[0;31m \u001b[0mrunning_median\u001b[0m \u001b[0;34m=\u001b[0m \u001b[0;34m[\u001b[0m\u001b[0mnp\u001b[0m\u001b[0;34m.\u001b[0m\u001b[0mmedian\u001b[0m\u001b[0;34m(\u001b[0m\u001b[0myy_use\u001b[0m\u001b[0;34m[\u001b[0m\u001b[0midx\u001b[0m\u001b[0;34m==\u001b[0m\u001b[0mk\u001b[0m\u001b[0;34m]\u001b[0m\u001b[0;34m)\u001b[0m \u001b[0;32mfor\u001b[0m \u001b[0mk\u001b[0m \u001b[0;32min\u001b[0m \u001b[0mrange\u001b[0m\u001b[0;34m(\u001b[0m\u001b[0mtotal_bins\u001b[0m\u001b[0;34m)\u001b[0m\u001b[0;34m]\u001b[0m\u001b[0;34m\u001b[0m\u001b[0m\n\u001b[0m\u001b[1;32m     12\u001b[0m \u001b[0;34m\u001b[0m\u001b[0m\n\u001b[1;32m     13\u001b[0m axarr[0,0].scatter(xx_use[idx_1], yy_use[idx_1],\n",
      "\u001b[0;32mastropy/table/_column_mixins.pyx\u001b[0m in \u001b[0;36mastropy.table._column_mixins._MaskedColumnGetitemShim.__getitem__ (astropy/table/_column_mixins.c:1559)\u001b[0;34m()\u001b[0m\n",
      "\u001b[0;32mastropy/table/_column_mixins.pyx\u001b[0m in \u001b[0;36mastropy.table._column_mixins.base_getitem (astropy/table/_column_mixins.c:1076)\u001b[0;34m()\u001b[0m\n",
      "\u001b[0;32mastropy/table/_column_mixins.pyx\u001b[0m in \u001b[0;36mastropy.table._column_mixins.masked_column_getitem (astropy/table/_column_mixins.c:1414)\u001b[0;34m()\u001b[0m\n",
      "\u001b[0;32m/Users/danecross/anaconda/lib/python3.6/site-packages/numpy/ma/core.py\u001b[0m in \u001b[0;36m__getitem__\u001b[0;34m(self, indx)\u001b[0m\n\u001b[1;32m   3218\u001b[0m         \u001b[0;31m# mask of being reshaped if it hasn't been set up properly yet\u001b[0m\u001b[0;34m\u001b[0m\u001b[0;34m\u001b[0m\u001b[0m\n\u001b[1;32m   3219\u001b[0m         \u001b[0;31m# So it's easier to stick to the current version\u001b[0m\u001b[0;34m\u001b[0m\u001b[0;34m\u001b[0m\u001b[0m\n\u001b[0;32m-> 3220\u001b[0;31m         \u001b[0mdout\u001b[0m \u001b[0;34m=\u001b[0m \u001b[0mself\u001b[0m\u001b[0;34m.\u001b[0m\u001b[0mdata\u001b[0m\u001b[0;34m[\u001b[0m\u001b[0mindx\u001b[0m\u001b[0;34m]\u001b[0m\u001b[0;34m\u001b[0m\u001b[0m\n\u001b[0m\u001b[1;32m   3221\u001b[0m         \u001b[0m_mask\u001b[0m \u001b[0;34m=\u001b[0m \u001b[0mself\u001b[0m\u001b[0;34m.\u001b[0m\u001b[0m_mask\u001b[0m\u001b[0;34m\u001b[0m\u001b[0m\n\u001b[1;32m   3222\u001b[0m \u001b[0;34m\u001b[0m\u001b[0m\n",
      "\u001b[0;32m/Users/danecross/anaconda/lib/python3.6/site-packages/numpy/ma/core.py\u001b[0m in \u001b[0;36m__getitem__\u001b[0;34m(self, indx)\u001b[0m\n\u001b[1;32m   3218\u001b[0m         \u001b[0;31m# mask of being reshaped if it hasn't been set up properly yet\u001b[0m\u001b[0;34m\u001b[0m\u001b[0;34m\u001b[0m\u001b[0m\n\u001b[1;32m   3219\u001b[0m         \u001b[0;31m# So it's easier to stick to the current version\u001b[0m\u001b[0;34m\u001b[0m\u001b[0;34m\u001b[0m\u001b[0m\n\u001b[0;32m-> 3220\u001b[0;31m         \u001b[0mdout\u001b[0m \u001b[0;34m=\u001b[0m \u001b[0mself\u001b[0m\u001b[0;34m.\u001b[0m\u001b[0mdata\u001b[0m\u001b[0;34m[\u001b[0m\u001b[0mindx\u001b[0m\u001b[0;34m]\u001b[0m\u001b[0;34m\u001b[0m\u001b[0m\n\u001b[0m\u001b[1;32m   3221\u001b[0m         \u001b[0m_mask\u001b[0m \u001b[0;34m=\u001b[0m \u001b[0mself\u001b[0m\u001b[0;34m.\u001b[0m\u001b[0m_mask\u001b[0m\u001b[0;34m\u001b[0m\u001b[0m\n\u001b[1;32m   3222\u001b[0m \u001b[0;34m\u001b[0m\u001b[0m\n",
      "\u001b[0;32mastropy/table/_column_mixins.pyx\u001b[0m in \u001b[0;36mastropy.table._column_mixins._ColumnGetitemShim.__getitem__ (astropy/table/_column_mixins.c:1343)\u001b[0;34m()\u001b[0m\n",
      "\u001b[0;32mastropy/table/_column_mixins.pyx\u001b[0m in \u001b[0;36mastropy.table._column_mixins.base_getitem (astropy/table/_column_mixins.c:1076)\u001b[0;34m()\u001b[0m\n",
      "\u001b[0;32mastropy/table/_column_mixins.pyx\u001b[0m in \u001b[0;36mastropy.table._column_mixins.column_getitem (astropy/table/_column_mixins.c:1283)\u001b[0;34m()\u001b[0m\n",
      "\u001b[0;31mIndexError\u001b[0m: boolean index did not match indexed array along dimension 0; dimension is 2105 but corresponding boolean dimension is 565"
     ]
    },
    {
     "data": {
      "image/png": "[encoded data removed]",
      "text/plain": [
       "<matplotlib.figure.Figure at 0x12300cb38>"
      ]
     },
     "metadata": {},
     "output_type": "display_data"
    }
   ],
   "source": [
    "fig, axarr = plt.subplots(2, 2)\n",
    "fig.subplots_adjust(hspace=0.5)\n",
    "\n",
    "N = 2000\n",
    "total_bins = 10\n",
    "\n",
    "bins = np.linspace(xx_use[idx_1].min(),xx_use[idx_1].max(), total_bins)\n",
    "delta = bins[1]-bins[0]\n",
    "idx  = np.digitize(xx_use[idx_1],bins)\n",
    "print(len(yy_use[idx]))\n",
    "running_median = [np.median(yy_use[idx==k]) for k in range(total_bins)]\n",
    "\n",
    "axarr[0,0].scatter(xx_use[idx_1], yy_use[idx_1],\n",
    "                   c=cc_use[idx_1],\n",
    "                   label='_nolegend_',\n",
    "                   cmap=cmaps.magma, \n",
    "                   alpha=0.7, s=15)\n",
    "axarr[0,0].set_title(r'$0.250 < z < 0.325$', \n",
    "                     fontsize=20)\n",
    "axarr[0,0].plot(bins-delta/2,running_median,'--',c='green',linewidth=2.0,lw=4,alpha=.8)\n",
    "\n",
    "axarr[1,0].scatter(xx_use[idx_2], yy_use[idx_2],\n",
    "                   c=cc_use[idx_2],\n",
    "                   label='_nolegend_',\n",
    "                   cmap=cmaps.magma, \n",
    "                   alpha=0.7, s=15)\n",
    "axarr[1,0].set_title(r'$0.325 < z < 0.400$', \n",
    "                     fontsize=20)\n",
    "#axarr[1,0].plot(bins-delta/2,running_median,'--',c='green',linewidth=2.0,lw=4,alpha=.8)\n",
    "\n",
    "axarr[0,1].scatter(xx_use[idx_3], yy_use[idx_3],\n",
    "                   c=cc_use[idx_3],\n",
    "                   label='_nolegend_',\n",
    "                   cmap=cmaps.magma, \n",
    "                   alpha=0.7, s=15)\n",
    "axarr[0,1].set_title(r'$0.400 < z < 0.475$', \n",
    "                     fontsize=20)\n",
    "#axarr[0,1].plot(bins-delta/2,running_median,'--',c='green',linewidth=2.0,lw=4,alpha=.8)\n",
    "\n",
    "sc = axarr[1,1].scatter(xx_use[idx_4], yy_use[idx_4],\n",
    "                   c=cc_use[idx_4],\n",
    "                   label='_nolegend_',\n",
    "                   cmap=cmaps.magma, \n",
    "                   alpha=0.7, s=15)\n",
    "axarr[1,1].set_title(r'$0.475 < z < 0.550$', \n",
    "                     fontsize=20)\n",
    "#axarr[1,1].plot(bins-delta/2,running_median,'--',c='green',linewidth=2.0,lw=4,alpha=.8)\n",
    "\n",
    "#plt.scatter(xx_use,yy_use,color='k',alpha=.2,s=2)\n",
    "\n",
    "\n",
    "for (m,n), subplot in np.ndenumerate(axarr):\n",
    "    subplot.set_xlim(17.6, 21.4)\n",
    "    subplot.set_ylim(-2.5, 2.5)\n",
    "    \n",
    "    # zorder=0 puts the grid in the background\n",
    "    subplot.grid(alpha=0.3, zorder=0)\n",
    "    \n",
    "    subplot.set_xlabel(r'$r_{\\rm HSC}\\ ({\\rm mag})$', fontsize=21)\n",
    "    subplot.set_ylabel(r'$r_{\\rm HSC}-r_{\\rm DECaLS}\\ ({\\rm mag})$', \n",
    "                       fontsize=20)\n",
    "    \n",
    "    subplot.axhline(0.0, linewidth=2.0, alpha=0.5, c='k', \n",
    "                    zorder=0, linestyle='--', dashes=(10, 4))\n",
    "    \n",
    "    for tick in subplot.xaxis.get_major_ticks():\n",
    "        tick.label.set_fontsize(16) \n",
    "    for tick in subplot.yaxis.get_major_ticks():\n",
    "        tick.label.set_fontsize(16) \n",
    "    \n",
    "    \n",
    "plt.suptitle('R Band Distributions')\n",
    "\n",
    "cbar_ax = fig.add_axes([0.95, 0.15, 0.02, 0.7])\n",
    "cbar = mpl.colorbar.ColorbarBase(cbar_ax, cmap=cmaps.magma, ticks=[1,0])\n",
    "type(cbar_ax)"
   ]
  },
  {
   "cell_type": "code",
   "execution_count": 11,
   "metadata": {},
   "outputs": [
    {
     "ename": "NameError",
     "evalue": "name 'hsc_g_mag' is not defined",
     "output_type": "error",
     "traceback": [
      "\u001b[0;31m---------------------------------------------------------------------------\u001b[0m",
      "\u001b[0;31mNameError\u001b[0m                                 Traceback (most recent call last)",
      "\u001b[0;32m<ipython-input-11-ba8da507b51f>\u001b[0m in \u001b[0;36m<module>\u001b[0;34m()\u001b[0m\n\u001b[0;32m----> 1\u001b[0;31m \u001b[0meighty_five\u001b[0m \u001b[0;34m=\u001b[0m \u001b[0mnp\u001b[0m\u001b[0;34m.\u001b[0m\u001b[0mpercentile\u001b[0m\u001b[0;34m(\u001b[0m\u001b[0mhsc_g_mag\u001b[0m\u001b[0;34m,\u001b[0m \u001b[0;36m85\u001b[0m\u001b[0;34m)\u001b[0m\u001b[0;34m\u001b[0m\u001b[0m\n\u001b[0m\u001b[1;32m      2\u001b[0m \u001b[0msixteen\u001b[0m \u001b[0;34m=\u001b[0m \u001b[0mnp\u001b[0m\u001b[0;34m.\u001b[0m\u001b[0mpercentile\u001b[0m\u001b[0;34m(\u001b[0m\u001b[0mhsc_g_mag\u001b[0m\u001b[0;34m,\u001b[0m \u001b[0;36m16\u001b[0m\u001b[0;34m)\u001b[0m\u001b[0;34m\u001b[0m\u001b[0m\n\u001b[1;32m      3\u001b[0m \u001b[0mfifty\u001b[0m \u001b[0;34m=\u001b[0m \u001b[0mnp\u001b[0m\u001b[0;34m.\u001b[0m\u001b[0mpercentile\u001b[0m\u001b[0;34m(\u001b[0m\u001b[0mhsc_g_mag\u001b[0m\u001b[0;34m,\u001b[0m \u001b[0;36m50\u001b[0m\u001b[0;34m)\u001b[0m\u001b[0;34m\u001b[0m\u001b[0m\n\u001b[1;32m      4\u001b[0m \u001b[0;34m\u001b[0m\u001b[0m\n\u001b[1;32m      5\u001b[0m \u001b[0mgmag_diff\u001b[0m \u001b[0;34m=\u001b[0m \u001b[0mhsc_g_mag\u001b[0m \u001b[0;34m-\u001b[0m \u001b[0mdecals_g_mag\u001b[0m\u001b[0;34m\u001b[0m\u001b[0m\n",
      "\u001b[0;31mNameError\u001b[0m: name 'hsc_g_mag' is not defined"
     ]
    }
   ],
   "source": [
    "eighty_five = np.percentile(hsc_g_mag, 85)\n",
    "sixteen = np.percentile(hsc_g_mag, 16)\n",
    "fifty = np.percentile(hsc_g_mag, 50)\n",
    "\n",
    "gmag_diff = hsc_g_mag - decals_g_mag"
   ]
  },
  {
   "cell_type": "code",
   "execution_count": null,
   "metadata": {
    "collapsed": true
   },
   "outputs": [],
   "source": [
    "plt.scatter(hsc_g_mag, gmag_diff,label='_nolegend_')\n",
    "plt.plot( [eighty_four, eighty_four],[-5, 5], color = 'red', label = '85th percentile')\n",
    "plt.plot([fifty, fifty], [-5, 5], color = 'purple', label = '50th percentile')\n",
    "plt.plot( [sixteen,sixteen], [-5, 5], color = 'darkblue', label = '16th percentile')\n",
    "plt.ylabel(\"magnitude difference (HSC mag - DECaLS mag)\")\n",
    "plt.xlabel(\"HSC magnitude\")\n",
    "plt.title(\"G Band Magnitudes\")\n",
    "plt.legend(loc='upper left')"
   ]
  },
  {
   "cell_type": "code",
   "execution_count": null,
   "metadata": {
    "collapsed": true
   },
   "outputs": [],
   "source": [
    "eighty_five = np.percentile(hsc_z_mag, 85)\n",
    "sixteen = np.percentile(hsc_z_mag, 16)\n",
    "fifty = np.percentile(hsc_z_mag, 50)\n",
    "\n",
    "zmag_diff = hsc_z_mag - decals_z_mag"
   ]
  },
  {
   "cell_type": "code",
   "execution_count": null,
   "metadata": {
    "collapsed": true
   },
   "outputs": [],
   "source": [
    "plt.scatter(hsc_z_mag, decals_z_mag-hsc_z_mag,label='_nolegend_' )\n",
    "plt.plot( [eighty_four, eighty_four],[-5, 5], color = 'red', label = '85th percentile')\n",
    "plt.plot([fifty, fifty], [-5, 5], color = 'purple', label = '50th percentile')\n",
    "plt.plot( [sixteen,sixteen], [-5, 5], color = 'darkblue', label = '16th percentile')\n",
    "plt.ylabel(\"magnitude difference (HSC mag - DECaLS mag)\")\n",
    "plt.xlabel(\"HSC magnitude\")\n",
    "plt.title(\"Z Band Magnitudes\")\n",
    "plt.legend(loc = 'upper left')"
   ]
  },
  {
   "cell_type": "code",
   "execution_count": null,
   "metadata": {
    "collapsed": true
   },
   "outputs": [],
   "source": []
  }
 ],
 "metadata": {
  "kernelspec": {
   "display_name": "Python 3",
   "language": "python",
   "name": "python3"
  },
  "language_info": {
   "codemirror_mode": {
    "name": "ipython",
    "version": 3
   },
   "file_extension": ".py",
   "mimetype": "text/x-python",
   "name": "python",
   "nbconvert_exporter": "python",
   "pygments_lexer": "ipython3",
   "version": "3.6.1"
  }
 },
 "nbformat": 4,
 "nbformat_minor": 2
}
