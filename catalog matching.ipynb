{
 "cells": [
  {
   "cell_type": "code",
   "execution_count": 1,
   "metadata": {
    "collapsed": true
   },
   "outputs": [],
   "source": [
    "%matplotlib inline \n",
    "%load_ext autoreload \n",
    "%autoreload 2\n",
    "\n",
    "# A comment\n",
    "\n",
    "from __future__ import (print_function, division, absolute_import)\n",
    "\n",
    "import os\n",
    "import glob\n",
    "import copy\n",
    "import sys\n",
    "import warnings\n",
    "\n",
    "import numpy as np\n",
    "\n",
    "# Matplotlib related\n",
    "import matplotlib as mpl\n",
    "import matplotlib.pyplot as plt\n",
    "plt.rc('text', usetex=True)\n",
    "\n",
    "from astropy.table import \\\n",
    "    Table, \\\n",
    "    Column, \\\n",
    "    vstack, \\\n",
    "    unique\n",
    "    \n",
    "from astropy.utils.metadata import MergeConflictWarning\n",
    "warnings.filterwarnings('ignore', category=MergeConflictWarning, \n",
    "                        append=True)\n",
    "from astropy import units as u\n",
    "from astropy.coordinates import SkyCoord as sc\n",
    "from astropy.utils.console import ProgressBar\n",
    "from astropy import visualization as vs\n",
    "\n",
    "import statistics as stat\n",
    "\n",
    "plt.rcParams['figure.figsize'] = (12, 7)"
   ]
  },
  {
   "cell_type": "code",
   "execution_count": 2,
   "metadata": {
    "collapsed": true
   },
   "outputs": [],
   "source": [
    "table_hsc = Table.read('hsc_s16a_fastlane_g09_short.fits', format = 'fits')\n",
    "table_decals = Table.read ('decals_dr3_g09_short.fits', format = 'fits')\n",
    "\n",
    "table_hsc.sort('rcmodel_mag')\n",
    "table_decals.sort('rmag_decal')\n",
    "\n",
    "ra_hsc = table_hsc['ra']\n",
    "dec_hsc = table_hsc['dec']\n",
    "ra_decals = table_decals['RA']\n",
    "dec_decals = table_decals['DEC']\n"
   ]
  },
  {
   "cell_type": "code",
   "execution_count": 3,
   "metadata": {
    "collapsed": true
   },
   "outputs": [],
   "source": [
    "hsc = sc(ra=ra_hsc*u.degree, dec=dec_hsc*u.degree)  \n",
    "decals = sc(ra=ra_decals*u.degree, dec=dec_decals*u.degree)  \n",
    "idx, d2d, d3d = hsc.match_to_catalog_sky(decals)"
   ]
  },
  {
   "cell_type": "markdown",
   "metadata": {},
   "source": [
    "Now idx are indices into decals catalog that are the closest objects to each of the coordinates in hsc catalog, d2d are the on-sky distances between them, and d3d are the 3-dimensional distances. \n",
    "\n",
    "now we get arrays of the luminosities and plot them"
   ]
  },
  {
   "cell_type": "code",
   "execution_count": 4,
   "metadata": {
    "collapsed": true
   },
   "outputs": [],
   "source": [
    "#split hsc into four redshift bins\n",
    "hsc_z = table_hsc['z_best']\n",
    "#.25-.325, .325-.4, .4-.475, .475-.55\n",
    "idx_1 = [x for x in range(len(hsc_z)) if (hsc_z[x] < .325)]\n",
    "idx_2 = [x for x in range(len(hsc_z)) if (hsc_z[x] > .325) & (hsc_z[x]<.4)]\n",
    "idx_3 = [x for x in range(len(hsc_z)) if (hsc_z[x] > .4) & (hsc_z[x]<.475)]\n",
    "idx_4 = [x for x in range(len(hsc_z)) if hsc_z[x] > .475]"
   ]
  },
  {
   "cell_type": "code",
   "execution_count": 5,
   "metadata": {
    "collapsed": true
   },
   "outputs": [],
   "source": [
    "hsc_r_mag = table_hsc['rcmodel_mag'] - table_hsc['a_r']\n",
    "hsc_r_mag_1 = hsc_r_mag[idx_1]\n",
    "hsc_r_mag_2 = hsc_r_mag[idx_2]\n",
    "hsc_r_mag_3 = hsc_r_mag[idx_3]\n",
    "hsc_r_mag_4 = hsc_r_mag[idx_4]\n",
    "\n",
    "hsc_g_mag = table_hsc['gcmodel_mag'] - table_hsc['a_g']\n",
    "hsc_g_mag_1 = hsc_g_mag[idx_1]\n",
    "hsc_g_mag_2 = hsc_g_mag[idx_2]\n",
    "hsc_g_mag_3 = hsc_g_mag[idx_3]\n",
    "hsc_g_mag_4 = hsc_g_mag[idx_4]\n",
    "\n",
    "hsc_z_mag = table_hsc['zcmodel_mag'] - table_hsc['a_z'] \n",
    "hsc_z_mag_1 = hsc_z_mag[idx_1]\n",
    "hsc_z_mag_2 = hsc_z_mag[idx_2]\n",
    "hsc_z_mag_3 = hsc_z_mag[idx_3]\n",
    "hsc_z_mag_4 = hsc_z_mag[idx_4]"
   ]
  },
  {
   "cell_type": "code",
   "execution_count": 6,
   "metadata": {
    "collapsed": true
   },
   "outputs": [],
   "source": [
    "decals_r_mag = table_decals['rmag_decal'][idx] - table_decals['a_g_decal'][idx]\n",
    "decals_r_mag_1 = decals_r_mag[idx_1]\n",
    "decals_r_mag_2 = decals_r_mag[idx_2]\n",
    "decals_r_mag_3 = decals_r_mag[idx_3]\n",
    "decals_r_mag_4 = decals_r_mag[idx_4]\n",
    "\n",
    "decals_g_mag = table_decals['gmag_decal'][idx] - table_decals['a_r_decal'][idx]\n",
    "decals_g_mag_1 = decals_g_mag[idx_1]\n",
    "decals_g_mag_2 = decals_g_mag[idx_2]\n",
    "decals_g_mag_3 = decals_g_mag[idx_3]\n",
    "decals_g_mag_4 = decals_g_mag[idx_4]\n",
    "\n",
    "decals_z_mag = table_decals['zmag_decal'][idx] - table_decals['a_z_decal'][idx]\n",
    "decals_z_mag_1 = decals_z_mag[idx_1]\n",
    "decals_z_mag_2 = decals_z_mag[idx_2]\n",
    "decals_z_mag_3 = decals_z_mag[idx_3]\n",
    "decals_z_mag_4 = decals_z_mag[idx_4]"
   ]
  },
  {
   "cell_type": "code",
   "execution_count": 7,
   "metadata": {
    "collapsed": true
   },
   "outputs": [],
   "source": [
    "rmag_diff = hsc_r_mag - decals_r_mag\n",
    "rmag_diff_1 = hsc_r_mag_1 - decals_r_mag_1\n",
    "rmag_diff_2 = hsc_r_mag_2 - decals_r_mag_2\n",
    "rmag_diff_3 = hsc_r_mag_3 - decals_r_mag_3\n",
    "rmag_diff_4 = hsc_r_mag_4 - decals_r_mag_4"
   ]
  },
  {
   "cell_type": "code",
   "execution_count": 8,
   "metadata": {
    "scrolled": false
   },
   "outputs": [],
   "source": [
    "plt.rc('text', usetex=False)"
   ]
  },
  {
   "cell_type": "code",
   "execution_count": 9,
   "metadata": {
    "scrolled": true
   },
   "outputs": [
    {
     "name": "stderr",
     "output_type": "stream",
     "text": [
      "/Users/danecross/anaconda/lib/python3.6/site-packages/numpy/lib/function_base.py:4269: RuntimeWarning: Invalid value encountered in percentile\n",
      "  interpolation=interpolation)\n"
     ]
    },
    {
     "ename": "IndexError",
     "evalue": "list index out of range",
     "output_type": "error",
     "traceback": [
      "\u001b[0;31m---------------------------------------------------------------------------\u001b[0m",
      "\u001b[0;31mIndexError\u001b[0m                                Traceback (most recent call last)",
      "\u001b[0;32m<ipython-input-9-bbf1617a807d>\u001b[0m in \u001b[0;36m<module>\u001b[0;34m()\u001b[0m\n\u001b[1;32m     14\u001b[0m \u001b[0mf\u001b[0m \u001b[0;34m=\u001b[0m \u001b[0;34m[\u001b[0m\u001b[0mx\u001b[0m \u001b[0;32mfor\u001b[0m \u001b[0mx\u001b[0m \u001b[0;32min\u001b[0m \u001b[0mdata\u001b[0m \u001b[0;32mif\u001b[0m \u001b[0;34m(\u001b[0m\u001b[0mx\u001b[0m\u001b[0;34m<\u001b[0m\u001b[0mfifty\u001b[0m\u001b[0;34m)\u001b[0m \u001b[0;34m]\u001b[0m\u001b[0;34m\u001b[0m\u001b[0m\n\u001b[1;32m     15\u001b[0m \u001b[0;34m\u001b[0m\u001b[0m\n\u001b[0;32m---> 16\u001b[0;31m \u001b[0mmed_e\u001b[0m \u001b[0;34m=\u001b[0m \u001b[0me\u001b[0m\u001b[0;34m[\u001b[0m\u001b[0mlen\u001b[0m\u001b[0;34m(\u001b[0m\u001b[0me\u001b[0m\u001b[0;34m)\u001b[0m\u001b[0;34m//\u001b[0m\u001b[0;36m2\u001b[0m\u001b[0;34m]\u001b[0m\u001b[0;34m\u001b[0m\u001b[0m\n\u001b[0m\u001b[1;32m     17\u001b[0m \u001b[0mmed_s\u001b[0m \u001b[0;34m=\u001b[0m \u001b[0ms\u001b[0m\u001b[0;34m[\u001b[0m\u001b[0mlen\u001b[0m\u001b[0;34m(\u001b[0m\u001b[0ms\u001b[0m\u001b[0;34m)\u001b[0m\u001b[0;34m//\u001b[0m\u001b[0;36m2\u001b[0m\u001b[0;34m]\u001b[0m\u001b[0;34m\u001b[0m\u001b[0m\n\u001b[1;32m     18\u001b[0m \u001b[0mmed_f\u001b[0m \u001b[0;34m=\u001b[0m \u001b[0mf\u001b[0m\u001b[0;34m[\u001b[0m\u001b[0mlen\u001b[0m\u001b[0;34m(\u001b[0m\u001b[0mf\u001b[0m\u001b[0;34m)\u001b[0m\u001b[0;34m//\u001b[0m\u001b[0;36m2\u001b[0m\u001b[0;34m]\u001b[0m\u001b[0;34m\u001b[0m\u001b[0m\n",
      "\u001b[0;31mIndexError\u001b[0m: list index out of range"
     ]
    }
   ],
   "source": [
    "#84th, 16th, and 50th percentile, repectively\n",
    "eighty_four = np.percentile(rmag_diff, 16)\n",
    "sixteen = np.percentile(rmag_diff, 84)\n",
    "fifty = np.percentile(rmag_diff, 50)\n",
    "\n",
    "data = [x for x in rmag_diff]\n",
    "np.argsort(data)\n",
    "\n",
    "data\n",
    "\n",
    "#find the list of points in the specified percentiles\n",
    "e = [x for x in data if (x<eighty_four) ]\n",
    "s = [x for x in data if (x<sixteen)]\n",
    "f = [x for x in data if (x<fifty) ]\n",
    "\n",
    "med_e = e[len(e)//2]\n",
    "med_s = s[len(s)//2]\n",
    "med_f = f[len(f)//2]\n",
    "\n",
    "y_e = hsc_r_mag[data.index(med_e)]\n",
    "y_s = hsc_r_mag[data.index(med_s)]\n",
    "y_f = hsc_r_mag[data.index(med_f)]\n"
   ]
  },
  {
   "cell_type": "code",
   "execution_count": null,
   "metadata": {
    "collapsed": true,
    "scrolled": false
   },
   "outputs": [],
   "source": [
    "fig, axarr = plt.subplots(2, 2)\n",
    "\n",
    "#data points \n",
    "axarr[0,0].scatter(hsc_r_mag_1, rmag_diff_1, s = [x//3 for x in s], color = 'darkred',label='_nolegend_')\n",
    "axarr[1,0].scatter(hsc_r_mag_2, rmag_diff_2, s = [x//3 for x in s], color = 'darkred',label='_nolegend_')\n",
    "axarr[0,1].scatter(hsc_r_mag_3, rmag_diff_3, s = [x//3 for x in s], color = 'darkred',label='_nolegend_')\n",
    "axarr[1,1].scatter(hsc_r_mag_4, rmag_diff_4, s = [x//3 for x in s], color = 'darkred',label='_nolegend_')\n",
    "\n",
    "#.25-.325, .325-.4, .4-.475, .475-.55\n",
    "axarr[0,0].set_title('z = .25-.325')\n",
    "axarr[1,0].set_title('z = .325-.4')\n",
    "axarr[0,1].set_title('z = .4-.475')\n",
    "axarr[1,1].set_title('z = .475-.55')\n",
    "\n",
    "fig.subplots_adjust(hspace=.5)\n",
    "\n",
    "for (m,n), subplot in np.ndenumerate(axarr):\n",
    "    #set the x and y axes to have the same dimensions and titles\n",
    "    subplot.set_xlim(17,22)\n",
    "    subplot.set_ylim(-4,4)\n",
    "    subplot.set_xlabel('HSC Magnitude')\n",
    "    subplot.set_ylabel('Magnitude Difference (HSC - DECaLS)')\n",
    "    #percentile cutoffs\n",
    "    subplot.plot( [eighty_four, eighty_four],[-5, 5], color = 'green', label = '16th percentile')\n",
    "    subplot.plot([fifty, fifty], [-5, 5], color = 'orange', label = '50th percentile')\n",
    "    subplot.plot( [sixteen,sixteen], [-5, 5], color = 'darkblue', label = '84th percentile')\n",
    "    #percentile medians\n",
    "    subplot.scatter( [med_e],[y_e], color = 'green', label = '16th percentile median')\n",
    "    subplot.scatter([med_s], [y_s], color = 'orange' , label = '50th percentile median')\n",
    "    subplot.scatter( [med_f], [y_f], color = 'darkblue', label = '84th percentile median')\n",
    "    #y axis\n",
    "    subplot.plot([17, 22], [0,0], color = 'black', label = 'diff = 0')\n",
    "\n",
    "#legend\n",
    "axarr[1,1].legend(loc='upper right', bbox_to_anchor=(1.7, 1.5),fancybox=True, shadow=True, ncol=1)\n",
    "\n",
    "plt.suptitle('R Band Distributions')\n"
   ]
  },
  {
   "cell_type": "code",
   "execution_count": null,
   "metadata": {
    "collapsed": true
   },
   "outputs": [],
   "source": [
    "eighty_five = np.percentile(hsc_g_mag, 85)\n",
    "sixteen = np.percentile(hsc_g_mag, 16)\n",
    "fifty = np.percentile(hsc_g_mag, 50)\n",
    "\n",
    "gmag_diff = hsc_g_mag - decals_g_mag"
   ]
  },
  {
   "cell_type": "code",
   "execution_count": null,
   "metadata": {
    "collapsed": true
   },
   "outputs": [],
   "source": [
    "plt.scatter(hsc_g_mag, gmag_diff,label='_nolegend_')\n",
    "plt.plot( [eighty_four, eighty_four],[-5, 5], color = 'red', label = '85th percentile')\n",
    "plt.plot([fifty, fifty], [-5, 5], color = 'purple', label = '50th percentile')\n",
    "plt.plot( [sixteen,sixteen], [-5, 5], color = 'darkblue', label = '16th percentile')\n",
    "plt.ylabel(\"magnitude difference (HSC mag - DECaLS mag)\")\n",
    "plt.xlabel(\"HSC magnitude\")\n",
    "plt.title(\"G Band Magnitudes\")\n",
    "plt.legend(loc='upper left')"
   ]
  },
  {
   "cell_type": "code",
   "execution_count": null,
   "metadata": {
    "collapsed": true
   },
   "outputs": [],
   "source": [
    "eighty_five = np.percentile(hsc_z_mag, 85)\n",
    "sixteen = np.percentile(hsc_z_mag, 16)\n",
    "fifty = np.percentile(hsc_z_mag, 50)\n",
    "\n",
    "zmag_diff = hsc_z_mag - decals_z_mag"
   ]
  },
  {
   "cell_type": "code",
   "execution_count": null,
   "metadata": {
    "collapsed": true
   },
   "outputs": [],
   "source": [
    "plt.scatter(hsc_z_mag, decals_z_mag-hsc_z_mag,label='_nolegend_' )\n",
    "plt.plot( [eighty_four, eighty_four],[-5, 5], color = 'red', label = '85th percentile')\n",
    "plt.plot([fifty, fifty], [-5, 5], color = 'purple', label = '50th percentile')\n",
    "plt.plot( [sixteen,sixteen], [-5, 5], color = 'darkblue', label = '16th percentile')\n",
    "plt.ylabel(\"magnitude difference (HSC mag - DECaLS mag)\")\n",
    "plt.xlabel(\"HSC magnitude\")\n",
    "plt.title(\"Z Band Magnitudes\")\n",
    "plt.legend(loc = 'upper left')"
   ]
  },
  {
   "cell_type": "code",
   "execution_count": null,
   "metadata": {
    "collapsed": true
   },
   "outputs": [],
   "source": []
  }
 ],
 "metadata": {
  "kernelspec": {
   "display_name": "Python 3",
   "language": "python",
   "name": "python3"
  },
  "language_info": {
   "codemirror_mode": {
    "name": "ipython",
    "version": 3
   },
   "file_extension": ".py",
   "mimetype": "text/x-python",
   "name": "python",
   "nbconvert_exporter": "python",
   "pygments_lexer": "ipython3",
   "version": "3.6.1"
  }
 },
 "nbformat": 4,
 "nbformat_minor": 2
}
