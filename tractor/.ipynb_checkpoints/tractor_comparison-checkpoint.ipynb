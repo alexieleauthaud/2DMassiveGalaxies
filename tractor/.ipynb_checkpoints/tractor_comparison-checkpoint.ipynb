{
 "cells": [
  {
   "cell_type": "markdown",
   "metadata": {},
   "source": [
    "The goal for running tractor is to find the ideal model of a galaxy using (a combination of) cersic, exponential, and de Vaucouleurs models. In order to do this, we need to:\n",
    "- create a tractor image (which is a model of the galaxy) using the following models:\n",
    "    - cersic\n",
    "    - exponential\n",
    "    - de Vaucouleurs\n",
    "    - composites    \n",
    "- take the model and compare it to the DECaLs deep imaging results of the same image"
   ]
  },
  {
   "cell_type": "code",
   "execution_count": 1,
   "metadata": {
    "collapsed": true
   },
   "outputs": [],
   "source": [
    "import os\n",
    "import copy\n",
    "\n",
    "import fitsio\n",
    "import numpy as np\n",
    "import pylab as plt\n",
    "\n",
    "from astropy.io import fits\n",
    "from astropy.wcs import WCS\n",
    "from astropy.table import Table\n",
    "\n",
    "import sep\n",
    "import tractor\n",
    "\n",
    "from astrometry.util.fits import fits_table\n",
    "#from astrometry.util.util import wcs_pv2sip_hdr\n",
    "\n",
    "from tractor import NullWCS\n",
    "from tractor.galaxy import *\n",
    "from tractor.sersic import *\n",
    "from tractor.psf import *\n",
    "from tractor.ellipses import *"
   ]
  },
  {
   "cell_type": "code",
   "execution_count": null,
   "metadata": {
    "collapsed": true
   },
   "outputs": [],
   "source": []
  }
 ],
 "metadata": {
  "kernelspec": {
   "display_name": "Python 3",
   "language": "python",
   "name": "python3"
  },
  "language_info": {
   "codemirror_mode": {
    "name": "ipython",
    "version": 3
   },
   "file_extension": ".py",
   "mimetype": "text/x-python",
   "name": "python",
   "nbconvert_exporter": "python",
   "pygments_lexer": "ipython3",
   "version": "3.6.1"
  }
 },
 "nbformat": 4,
 "nbformat_minor": 2
}
