{
 "cells": [
  {
   "cell_type": "markdown",
   "metadata": {
    "collapsed": true
   },
   "source": [
    "### Requirements for file input\n",
    "\n",
    "1. each object must be under a directory with the object number as the title of the directory. \n",
    "    - for example if the object's number is \"78\" then all of the corresponding files (ie the \"redadd...\" files\" should be under that directory. \n",
    "2. There needs to be fits files that have\n",
    "    - the image data\n",
    "    - the signififcance data\n",
    "    - the mask data\n",
    "    - the world coordinate system info"
   ]
  },
  {
   "cell_type": "markdown",
   "metadata": {},
   "source": [
    "### Output\n",
    "1. .fits files of cropped image data and significant data\n",
    "2. images of the ellipses surrounding the objects in image\n",
    "3. graph plotting the length of the major axis vs. the ratio of the minor to major axis. Upper left corner represents the sources that are considered point sources. \n",
    "4. fits table catalog of all objects in the img_data\n",
    "\n",
    "These files are what we need to feed to tractor. \n",
    "\n",
    "-Dane"
   ]
  },
  {
   "cell_type": "code",
   "execution_count": 1,
   "metadata": {
    "collapsed": true
   },
   "outputs": [],
   "source": [
    "import numpy as np\n",
    "import os\n",
    "import os.path\n",
    "\n",
    "# Set up matplotlib and use a nicer set of plot parameters\n",
    "import matplotlib\n",
    "import matplotlib.pyplot as plt\n",
    "from matplotlib.patches import Ellipse\n",
    "\n",
    "import sep\n",
    "import pylab\n",
    "\n",
    "from astropy.io import fits\n",
    "from astropy.wcs import WCS\n",
    "\n",
    "%matplotlib inline"
   ]
  },
  {
   "cell_type": "code",
   "execution_count": null,
   "metadata": {
    "collapsed": true
   },
   "outputs": [],
   "source": [
    "def get_data (path):\n",
    "    img_data = fits.open(path+'img.fits')[0].data[400:800,400:800]\n",
    "    sig_data = fits.open(path+'sig.fits')[0].data[400:800,400:800]\n",
    "    msk_data = fits.open(path+'bad.fits')[0].data[400:800,400:800]\n",
    "    \n",
    "    #create cropped fits file to feed into tractor\n",
    "    img = fits.PrimaryHDU(img_data)\n",
    "    img.writeto('img_data_crop_'+num)\n",
    "    \n",
    "    sig = fits.PrimaryHDU(sig_data)\n",
    "    sig.writeto('sig_data_crop_'+num)\n",
    "    \n",
    "    return img_data,sig_data,msk_data"
   ]
  },
  {
   "cell_type": "code",
   "execution_count": null,
   "metadata": {
    "scrolled": false
   },
   "outputs": [
    {
     "name": "stdout",
     "output_type": "stream",
     "text": [
      "img and sig data saved for 126\n"
     ]
    }
   ],
   "source": [
    "import os\n",
    "import shutil\n",
    "\n",
    "directories = os.listdir('hsc_images')\n",
    "nums = []\n",
    "\n",
    "for directory in directories:\n",
    "    #ignore any files that may have been added on accident\n",
    "    if not str.isdigit(directory[0]):\n",
    "        continue\n",
    "    \n",
    "    num = directory\n",
    "    nums.append(num)\n",
    "    path = 'hsc_images/'+num+'/redadd_'+num+'_HSC-I_full_'\n",
    "    \n",
    "    img_data, sig_data, msk_data = get_data(path)\n",
    "    \n",
    "    print('img and sig data saved for ' + num)\n",
    "    \n",
    "    # Change the byteorder (translate the bytes)\n",
    "    img_data = img_data.byteswap().newbyteorder()\n",
    "    sig_data = sig_data.byteswap().newbyteorder()\n",
    "    msk_data = msk_data.byteswap().newbyteorder()\n",
    "    \n",
    "    #step 2\n",
    "    bkg_model = sep.Background(img_data, mask=msk_data, bw=32, bh=32, fw=3, fh=3)\n",
    "    img_sub = img_data - bkg_model.back()\n",
    "    \n",
    "    #step 3\n",
    "    obj_table, seg_data = sep.extract(img_sub, 5.0, err=sig_data, mask=msk_data, \n",
    "                                      minarea=5, deblend_nthresh=32, deblend_cont=0.001,\n",
    "                                      clean=True, segmentation_map=True)\n",
    "    \n",
    "    #step 4\n",
    "    #gets elliptical approximations of the ends of the galaxies, create visualizations\n",
    "    fig, ax = plt.subplots()\n",
    "    img_avg, img_std = np.mean(img_sub), np.std(img_sub)\n",
    "\n",
    "    im = ax.imshow(img_sub, interpolation='nearest',\n",
    "                   vmin=(img_avg - img_std), vmax=(img_avg + img_std), \n",
    "                   origin='lower')\n",
    "\n",
    "    for i in range(len(obj_table)):\n",
    "        e = Ellipse(xy=(obj_table['x'][i], \n",
    "                        obj_table['y'][i]),\n",
    "                    width=(6 * obj_table['a'][i]),\n",
    "                    height=(6 * obj_table['b'][i]),\n",
    "                    angle=(obj_table['theta'][i] * 180. / np.pi))\n",
    "        e.set_facecolor('none')\n",
    "        e.set_edgecolor('red')\n",
    "        ax.add_artist(e)\n",
    "    \n",
    "    #save elliptical image\n",
    "    pylab.savefig('elliptical_image_'+num,bbox_inches='tight')\n",
    "    print('elliptical image saved for '+num)\n",
    "    \n",
    "    #step 5\n",
    "\n",
    "    #get world coordinate system from header and scale pixels to WCS\n",
    "    img_wcs = WCS(path+'img.fits') \n",
    "    pixel_scale = np.abs(img_wcs.pixel_scale_matrix[0][0] * 3600.0) \n",
    "    \n",
    "    #get the arcsec length of major/minor axes\n",
    "    a_arcsec, b_arcsec = (pixel_scale * obj_table['a']), (pixel_scale * obj_table['b']) \n",
    "    \n",
    "    # Plot the size v.s. shape \n",
    "    plt.scatter(a_arcsec, (b_arcsec / a_arcsec), s=5)\n",
    "\n",
    "    #plot the limits \n",
    "    plt.axhline(0.9)\n",
    "    plt.axvline(0.35)\n",
    "\n",
    "    plt.savefig('point_source_vis_'+num)\n",
    "    \n",
    "    #step 6\n",
    "\n",
    "    from astropy.table import Table\n",
    "\n",
    "    x = obj_table['x']\n",
    "    y = obj_table['y']\n",
    "    x2 = obj_table['x2']\n",
    "    y2 = obj_table['y2']\n",
    "    xy = obj_table['xy']\n",
    "    a = obj_table['a']\n",
    "    b = obj_table['b']\n",
    "    theta = obj_table['theta']\n",
    "    flux = obj_table['flux']\n",
    "\n",
    "    point_source = [((b_arcsec[i]/ a_arcsec[i] > .9) and (a_arcsec[i]<.35)) for i in range(len(obj_table))]\n",
    "\n",
    "    t = Table([x,y,x2,y2,xy,a,b,theta,flux,point_source], \n",
    "              names=('x', 'y', 'x2','y2','xy','a','b','theta','flux','point_source'), \n",
    "              meta={'name': 'object table'})\n",
    "    \n",
    "    #step 7\n",
    "    tbhdu = fits.BinTableHDU.from_columns(\n",
    "         [fits.Column(name='x', format='D', array=np.array(x)),\n",
    "          fits.Column(name='y', format='D', array=np.array(y)),\n",
    "          fits.Column(name='x2', format = 'D', array=np.array(x2)),\n",
    "          fits.Column(name='y2', format = 'D', array=np.array(y2)),\n",
    "          fits.Column(name='xy', format = 'D', array=np.array(xy)),\n",
    "          fits.Column(name='a', format = 'D', array=np.array(a)),\n",
    "          fits.Column(name='b', format = 'D', array=np.array(b)),\n",
    "          fits.Column(name='theta', format = 'D', array=np.array(theta)),\n",
    "          fits.Column(name='flux', format = 'D', array=np.array(flux)),\n",
    "          fits.Column(name='point_source', format = 'D', array=np.array(point_source))])\n",
    "    tbhdu.writeto('tractor_'+num+'.fits')\n",
    "    "
   ]
  },
  {
   "cell_type": "code",
   "execution_count": null,
   "metadata": {
    "collapsed": true
   },
   "outputs": [],
   "source": [
    "#organize files\n",
    "directory = os.listdir('./')\n",
    "print(directory)\n",
    "print(nums)\n",
    "\n",
    "for n in nums:\n",
    "    os.makedirs(n+'_tractor_ready')\n",
    "\n",
    "for file in directory:\n",
    "    if 'example' in file or 'tractor_prep' in file or 'hsc' in file:\n",
    "        continue\n",
    "    for num in nums:\n",
    "        if num in file:\n",
    "            src = os.path.abspath(file)\n",
    "            dst = os.path.abspath(num+'_tractor_ready')\n",
    "            shutil.move(src,dst)\n",
    "            break\n",
    "    "
   ]
  },
  {
   "cell_type": "code",
   "execution_count": null,
   "metadata": {
    "collapsed": true
   },
   "outputs": [],
   "source": []
  }
 ],
 "metadata": {
  "kernelspec": {
   "display_name": "Python 3",
   "language": "python",
   "name": "python3"
  },
  "language_info": {
   "codemirror_mode": {
    "name": "ipython",
    "version": 3
   },
   "file_extension": ".py",
   "mimetype": "text/x-python",
   "name": "python",
   "nbconvert_exporter": "python",
   "pygments_lexer": "ipython3",
   "version": "3.6.1"
  }
 },
 "nbformat": 4,
 "nbformat_minor": 2
}
