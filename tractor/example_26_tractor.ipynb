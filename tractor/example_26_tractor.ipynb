{
 "cells": [
  {
   "cell_type": "markdown",
   "metadata": {
    "collapsed": true
   },
   "source": [
    "The goal for running tractor is to find the ideal model of a galaxy using (a combination of) cersic, exponential, and de Vaucouleurs models. In order to do this, we need to:\n",
    "- create a tractor image (which is a model of the galaxy) using the following models:\n",
    "    - cersic\n",
    "    - exponential\n",
    "    - de Vaucouleurs\n",
    "    - composites    \n",
    "- take the model and compare it to the DECaLs deep imaging results of the same image"
   ]
  },
  {
   "cell_type": "code",
   "execution_count": null,
   "metadata": {
    "collapsed": true
   },
   "outputs": [],
   "source": [
    "import os\n",
    "import copy\n",
    "\n",
    "import fitsio\n",
    "import numpy as np\n",
    "import pylab as plt\n",
    "\n",
    "\n",
    "from astropy.io import fits\n",
    "from astropy.wcs import WCS\n",
    "from astropy.table import Table\n",
    "\n",
    "import sep\n",
    "import tractor\n",
    "\n",
    "from astrometry.util.fits import fits_table\n",
    "#from astrometry.util.util import wcs_pv2sip_hdr\n",
    "\n",
    "from tractor import NullWCS\n",
    "from tractor.galaxy import *\n",
    "from tractor.sersic import *\n",
    "from tractor.psf import *\n",
    "from tractor.ellipses import *"
   ]
  },
  {
   "cell_type": "code",
   "execution_count": null,
   "metadata": {},
   "outputs": [],
   "source": [
    "def fit_galaxies (galaxy_type, cat):\n",
    "    #galaxy type: \n",
    "    # - \"comp\" = composite \n",
    "    # - \"dev\" = de Vaucouleurs \n",
    "    # - \"ser\" = sersic \n",
    "    # - \"exp\" = exponential \n",
    "    \n",
    "    sources = []\n",
    "    \n",
    "    if galaxy_type == 'comp':\n",
    "        for obj in obj_cat_bright:\n",
    "            # if the object is a point source, add it as such\n",
    "            if obj['point_source'] > 0.0:\n",
    "                sources.append(tractor.PointSource(tractor.PixPos(obj['x'], obj['y']),\n",
    "                                                   tractor.Flux(obj['flux'])) )\n",
    "            else:\n",
    "                sources.append(tractor.CompositeGalaxy(PixPos(obj['x'], obj['y']), \n",
    "                                                       Flux(0.4 * obj['flux']), GalaxyShape(obj['a'] * 0.8,  0.9,  obj['theta'] * 180.0 / np.pi),\n",
    "                                                       Flux(0.6 * obj['flux']), GalaxyShape(obj['a'],  obj['b']/obj['a'], obj['theta'] * 180.0 / np.pi)))\n",
    "    elif galaxy_type == 'dev':\n",
    "        for obj in obj_cat_bright:\n",
    "            # if the object is a point source, add it as such\n",
    "            if obj['point_source'] > 0.0:\n",
    "                sources.append(tractor.PointSource(tractor.PixPos(obj['x'], obj['y']),\n",
    "                                                   tractor.Flux(obj['flux'])) )\n",
    "            else:\n",
    "                sources.append(tractor.DevGalaxy(tractor.PixPos(obj['x'], obj['y']),\n",
    "                                         tractor.Flux(obj['flux']),\n",
    "                                         GalaxyShape(obj['a'] / 2.0, \n",
    "                                                     (obj['b'] / obj['a']),\n",
    "                                                     (180.0 - obj['theta'] * 180.0 / np.pi))))\n",
    "    #elif galaxy_type == 'ser':\n",
    "    #    for obj in obj_cat_bright:\n",
    "    #        # if the object is a point source, add it as such\n",
    "    #        if obj['point_source'] > 0.0:\n",
    "    #            sources.append(tractor.PointSource(tractor.PixPos(obj['x'], obj['y']),\n",
    "    #                                               tractor.Flux(obj['flux'])) )\n",
    "    #        else:\n",
    "    #            sources.append(tractor.SersicGalaxy(tractor.PixPos(obj['x'], obj['y']),\n",
    "    #                                                tractor.Flux(obj['flux']),\n",
    "    #                                                GalaxyShape(obj['a'] / 2.0, \n",
    "    #                                                            (obj['b'] / obj['a']),\n",
    "    #                                                            (180.0 - obj['theta'] * 180.0 / np.pi))))\n",
    "    elif galaxy_type == 'exp':\n",
    "        for obj in obj_cat_bright:\n",
    "            # if the object is a point source, add it as such\n",
    "            if obj['point_source'] > 0.0:\n",
    "                sources.append(tractor.PointSource(tractor.PixPos(obj['x'], obj['y']),\n",
    "                                                   tractor.Flux(obj['flux'])) )\n",
    "            else:\n",
    "                sources.append(tractor.ExpGalaxy(tractor.PixPos(obj['x'], obj['y']),\n",
    "                                                    tractor.Flux(obj['flux']),\n",
    "                                                    GalaxyShape(obj['a'] / 2.0, \n",
    "                                                                (obj['b'] / obj['a']),\n",
    "                                                                (180.0 - obj['theta'] * 180.0 / np.pi))))\n",
    "    else: \n",
    "        raise ValueError('incorrect input for galaxy type')\n",
    "        # valid types: 'comp' , 'dev' , 'exp'\n",
    "                \n",
    "                \n",
    "    return sources         \n",
    "                \n",
    "    "
   ]
  },
  {
   "cell_type": "code",
   "execution_count": null,
   "metadata": {
    "collapsed": true
   },
   "outputs": [],
   "source": [
    "#open fits files\n",
    "num = '26'\n",
    "galaxy_dir = os.path.dirname(os.path.abspath(num+'_tractor_ready'))\n",
    "path = os.path.join(galaxy_dir,num+'_tractor_ready')\n",
    "\n",
    "img_data = fits.open(os.path.join(path,'img_data_crop_'+num+'.fits'))[0].data\n",
    "psf_data = fits.open(os.path.join(path,'psf_data_crop_'+num+'.fits'))[0].data\n",
    "psf_obj = tractor.PixelizedPSF(psf_data, Lorder=5)\n",
    "sig_data = fits.open(os.path.join(path,'sig_data_crop_'+num+'.fits'))[0].data\n",
    "\n",
    "obj_cat = Table.read(path+'/tractor_'+num+'.fits')\n",
    "\n",
    "invvar_data = (1.0 / (sig_data ** 2.0))\n",
    "\n",
    "w = NullWCS(pixscale=0.168)"
   ]
  },
  {
   "cell_type": "code",
   "execution_count": null,
   "metadata": {
    "collapsed": true
   },
   "outputs": [],
   "source": [
    "tim = tractor.Image(data=img_data,\n",
    "            invvar=invvar_data,\n",
    "            psf=psf_obj,\n",
    "            wcs=w,\n",
    "            sky=tractor.ConstantSky(0.0),\n",
    "            photocal=tractor.NullPhotoCal()\n",
    "            )"
   ]
  },
  {
   "cell_type": "code",
   "execution_count": null,
   "metadata": {},
   "outputs": [],
   "source": [
    "obj_cat_bright = copy.deepcopy(obj_cat) \n",
    "obj_cat_bright.sort('flux')\n",
    "obj_cat_bright.reverse()\n",
    "\n",
    "obj_cat_bright = obj_cat_bright[:20]"
   ]
  },
  {
   "cell_type": "code",
   "execution_count": null,
   "metadata": {},
   "outputs": [],
   "source": [
    "sources_comp = fit_galaxies('comp',obj_cat_bright)\n",
    "sources_dev = fit_galaxies('dev',obj_cat_bright)\n",
    "sources_exp = fit_galaxies('exp',obj_cat_bright)"
   ]
  },
  {
   "cell_type": "code",
   "execution_count": null,
   "metadata": {},
   "outputs": [],
   "source": [
    "trac_obj_comp = Tractor([tim], sources_comp)\n",
    "trac_mod_comp = trac_obj_comp.getModelImage(0, minsb=0.0)\n",
    "\n",
    "trac_obj_dev = Tractor([tim], sources_comp)\n",
    "trac_mod_dev = trac_obj_dev.getModelImage(0, minsb=0.0)\n",
    "\n",
    "trac_obj_exp = Tractor([tim], sources_comp)\n",
    "trac_mod_exp = trac_obj_exp.getModelImage(0, minsb=0.0)"
   ]
  },
  {
   "cell_type": "code",
   "execution_count": null,
   "metadata": {},
   "outputs": [],
   "source": [
    "# composite function\n",
    "plt.imshow(np.arcsinh(trac_mod_comp))\n",
    "plt.title('initial model')\n",
    "plt.show()\n",
    "plt.imshow(np.arcsinh(img_data - trac_mod_comp))\n",
    "plt.title('intial model difference between image')\n",
    "plt.show()\n",
    "\n",
    "trac_obj_comp.freezeParam('images')\n",
    "trac_obj_comp.optimize_loop()\n",
    "\n",
    "trac_mod_opt = trac_obj_comp.getModelImage(0, minsb=0., srcs=sources_comp)\n",
    "\n",
    "plt.imshow(np.arcsinh(trac_mod_opt))\n",
    "plt.title('optimized tractor model')\n",
    "plt.show()\n",
    "\n",
    "trac_mod_opt = trac_obj_comp.getModelImage(0, minsb=0., srcs=sources_comp)\n",
    "\n",
    "plt.imshow(np.arcsinh(img_data - trac_mod_opt))\n",
    "plt.title('optimized model, image difference')\n",
    "plt.show()\n",
    "\n",
    "plt.imshow(np.arcsinh(img_data))\n",
    "plt.title('initial image')\n",
    "plt.show()"
   ]
  },
  {
   "cell_type": "code",
   "execution_count": null,
   "metadata": {},
   "outputs": [],
   "source": [
    "# de vac function\n",
    "plt.imshow(np.arcsinh(trac_mod_dev))\n",
    "plt.title('initial model')\n",
    "plt.show()\n",
    "plt.imshow(np.arcsinh(img_data - trac_mod_dev))\n",
    "plt.title('intial model difference between image')\n",
    "plt.show()\n",
    "\n",
    "trac_obj_dev.freezeParam('images')\n",
    "trac_obj_dev.optimize_loop()\n",
    "\n",
    "trac_mod_opt = trac_obj_dev.getModelImage(0, minsb=0., srcs=sources_dev)\n",
    "\n",
    "plt.imshow(np.arcsinh(trac_mod_opt))\n",
    "plt.title('optimized tractor model')\n",
    "plt.show()\n",
    "\n",
    "trac_mod_opt = trac_obj_dev.getModelImage(0, minsb=0., srcs=sources_dev)\n",
    "\n",
    "plt.imshow(np.arcsinh(img_data - trac_mod_opt))\n",
    "plt.title('optimized model, image difference')\n",
    "plt.show()\n",
    "\n",
    "plt.imshow(np.arcsinh(img_data))\n",
    "plt.title('initial image')\n",
    "plt.show()"
   ]
  },
  {
   "cell_type": "code",
   "execution_count": null,
   "metadata": {},
   "outputs": [],
   "source": [
    "# exp function\n",
    "plt.imshow(np.arcsinh(trac_mod_exp))\n",
    "plt.title('tractor model initial')\n",
    "plt.show()\n",
    "plt.imshow(np.arcsinh(img_data - trac_mod_exp))\n",
    "plt.title('image - initial model difference')\n",
    "plt.show()\n",
    "\n",
    "trac_obj_exp.freezeParam('images')\n",
    "trac_obj_exp.optimize_loop()\n",
    "\n",
    "trac_mod_opt = trac_obj_exp.getModelImage(0, minsb=0., srcs=sources_exp)\n",
    "\n",
    "plt.imshow(np.arcsinh(trac_mod_opt))\n",
    "plt.title('optimized tractor model')\n",
    "plt.show()\n",
    "\n",
    "trac_mod_opt = trac_obj_exp.getModelImage(0, minsb=0., srcs=sources_exp)\n",
    "\n",
    "plt.imshow(np.arcsinh(img_data - trac_mod_opt))\n",
    "plt.title('difference between model and actual')\n",
    "plt.show()\n",
    "\n",
    "plt.imshow(np.arcsinh(img_data))\n",
    "plt.title('image')\n",
    "plt.show()"
   ]
  },
  {
   "cell_type": "code",
   "execution_count": null,
   "metadata": {
    "collapsed": true
   },
   "outputs": [],
   "source": []
  }
 ],
 "metadata": {
  "kernelspec": {
   "display_name": "Python 3",
   "language": "python",
   "name": "python3"
  },
  "language_info": {
   "codemirror_mode": {
    "name": "ipython",
    "version": 3
   },
   "file_extension": ".py",
   "mimetype": "text/x-python",
   "name": "python",
   "nbconvert_exporter": "python",
   "pygments_lexer": "ipython3",
   "version": "3.6.1"
  }
 },
 "nbformat": 4,
 "nbformat_minor": 2
}
