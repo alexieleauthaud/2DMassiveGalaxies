{
 "cells": [
  {
   "cell_type": "code",
   "execution_count": 1,
   "metadata": {
    "collapsed": true
   },
   "outputs": [],
   "source": [
    "import os\n",
    "\n",
    "from astrometry.util.fits import fits_table\n",
    "from astrometry.util.util import wcs_pv2sip_hdr\n",
    "\n",
    "import fitsio\n",
    "import numpy as np\n",
    "import pylab as plt\n",
    "from astropy.io import fits\n",
    "from astropy.wcs import WCS\n",
    "from astropy.table import Table\n",
    "\n",
    "import sep\n",
    "import tractor\n",
    "\n",
    "from tractor import NullWCS\n",
    "from tractor.galaxy import *\n",
    "from tractor.sersic import *\n"
   ]
  },
  {
   "cell_type": "code",
   "execution_count": 2,
   "metadata": {
    "collapsed": true
   },
   "outputs": [],
   "source": [
    "class Grid(object):\n",
    "    def __init__(self,ramin,ramax,decmin,decmax,pixscale):\n",
    "        self.npix_ra= int(deg_to_arcsec(ramax-ramin)/pixscale + 1)\n",
    "        self.npix_dec= int(deg_to_arcsec(decmax-decmin)/pixscale + 1)\n",
    "        self.ra_centers= np.linspace(ramin,ramax,num=self.npix_ra)\n",
    "        self.dec_centers= np.linspace(decmin,decmax,num=self.npix_dec)\n",
    "    def nearest_cell_index(self,ra,dec):\n",
    "        '''return x,y index for img of nearest ra,dec pixel center to ra,dec'''\n",
    "        return np.argsort(np.abs(self.ra_centers-ra))[0], np.argsort(np.abs(self.dec_centers-dec))[0]\n"
   ]
  },
  {
   "cell_type": "code",
   "execution_count": 3,
   "metadata": {},
   "outputs": [],
   "source": [
    "#open fits files\n",
    "num = '26'\n",
    "prefix = 'redadd_'+num+'_HSC-I_full_'\n",
    "path = os.path.dirname(os.path.abspath(num))+'/hsc_images/'+num+'/'+prefix\n",
    "\n",
    "img_data = fits.open(path+'img.fits')[0].data[400:800,400:800]\n",
    "psf_data = fits.open(path+'psf.fits')[0].data[400:800,400:800]\n",
    "sig_data = fits.open(path+'sig.fits')[0].data[400:800,400:800]\n",
    "bad_data = fits.open(path+'bad.fits')[0].data[400:800,400:800]\n",
    "\n",
    "obj_cat = Table.read(os.path.dirname(os.path.abspath(num))+'/'+num+'_tractor_ready/tractor_'+num+'.fits')"
   ]
  },
  {
   "cell_type": "code",
   "execution_count": 4,
   "metadata": {},
   "outputs": [],
   "source": [
    "invvar_data = (1.0 / (sig_data ** 2.0))\n",
    "invvar_data[bad_data > 0] = np.nan\n",
    "\n",
    "w = NullWCS(pixscale=0.168)"
   ]
  },
  {
   "cell_type": "code",
   "execution_count": 5,
   "metadata": {},
   "outputs": [],
   "source": [
    "tim = tractor.Image(data=img_data,\n",
    "            invvar=invvar_data,\n",
    "            psf=psf_data,\n",
    "            wcs=w,\n",
    "            sky=tractor.ConstantSky(0),\n",
    "            photocal=tractor.LinearPhotoCal(tractor.NanoMaggies.zeropointToScale(27),\n",
    "                                    band='r')\n",
    "            )"
   ]
  },
  {
   "cell_type": "code",
   "execution_count": 6,
   "metadata": {},
   "outputs": [
    {
     "data": {
      "text/html": [
       "&lt;Table length=57&gt;\n",
       "<table id=\"table4702862752\" class=\"table-striped table-bordered table-condensed\">\n",
       "<thead><tr><th>x</th><th>y</th><th>x2</th><th>y2</th><th>xy</th><th>a</th><th>b</th><th>theta</th><th>flux</th><th>point_source</th></tr></thead>\n",
       "<thead><tr><th>float64</th><th>float64</th><th>float64</th><th>float64</th><th>float64</th><th>float64</th><th>float64</th><th>float64</th><th>float64</th><th>float64</th></tr></thead>\n",
       "<tr><td>308.754997344</td><td>2.06837412783</td><td>2.85085962201</td><td>1.92293960705</td><td>-0.161521907025</td><td>1.6965174675</td><td>1.37681794167</td><td>-0.167507335544</td><td>15.1361637115</td><td>0.0</td></tr>\n",
       "<tr><td>289.247901505</td><td>3.87949484684</td><td>2.83404700123</td><td>3.97577324759</td><td>-0.645741058597</td><td>2.06562519073</td><td>1.59468281269</td><td>-1.14736270905</td><td>10.7689361572</td><td>0.0</td></tr>\n",
       "<tr><td>257.117552803</td><td>9.52864303905</td><td>2.11646897117</td><td>2.34192221063</td><td>-0.137008617232</td><td>1.55132770538</td><td>1.43240129948</td><td>-1.12963414192</td><td>27.6240844727</td><td>1.0</td></tr>\n",
       "<tr><td>23.5529669723</td><td>15.2519187282</td><td>1.85771139504</td><td>1.97976705337</td><td>-0.401082785986</td><td>1.52461087704</td><td>1.2300568819</td><td>-0.860897898674</td><td>7.81157064438</td><td>0.0</td></tr>\n",
       "<tr><td>398.611095041</td><td>22.9991457042</td><td>0.237657891863</td><td>1.21648399534</td><td>-0.00512421581424</td><td>1.10295546055</td><td>0.487474173307</td><td>-1.56556141376</td><td>2.05110788345</td><td>0.0</td></tr>\n",
       "<tr><td>167.926590939</td><td>21.8721129849</td><td>3.49037195343</td><td>2.98972577006</td><td>-0.103674500068</td><td>1.87376403809</td><td>1.72310936451</td><td>-0.196327850223</td><td>21.7597293854</td><td>1.0</td></tr>\n",
       "<tr><td>185.915946864</td><td>20.7756128205</td><td>17.593632825</td><td>12.8584390743</td><td>6.92780741183</td><td>4.74839353561</td><td>2.81155323982</td><td>0.620743811131</td><td>507.236328125</td><td>0.0</td></tr>\n",
       "<tr><td>242.457483833</td><td>28.3989617067</td><td>2.8119161754</td><td>2.82453598643</td><td>0.0102029987016</td><td>1.68232655525</td><td>1.67518043518</td><td>1.06233084202</td><td>64.6484832764</td><td>1.0</td></tr>\n",
       "<tr><td>314.416024617</td><td>32.626254065</td><td>1.02601409314</td><td>0.405556830417</td><td>-0.073678581115</td><td>1.01717424393</td><td>0.630021929741</td><td>-0.116588801146</td><td>1.7537099123</td><td>0.0</td></tr>\n",
       "<tr><td>137.66472308</td><td>61.7846661466</td><td>2.07743107914</td><td>1.16304168962</td><td>0.014974056719</td><td>1.44141471386</td><td>1.07833039761</td><td>0.0163701660931</td><td>6.2197933197</td><td>0.0</td></tr>\n",
       "<tr><td>...</td><td>...</td><td>...</td><td>...</td><td>...</td><td>...</td><td>...</td><td>...</td><td>...</td><td>...</td></tr>\n",
       "<tr><td>217.951450343</td><td>338.760193562</td><td>2.4617855416</td><td>3.03785696812</td><td>-0.394917270622</td><td>1.79961657524</td><td>1.50366961956</td><td>-1.10047721863</td><td>13.6404657364</td><td>0.0</td></tr>\n",
       "<tr><td>117.329779448</td><td>342.874013752</td><td>6.50604658641</td><td>5.01139411174</td><td>-1.13550093179</td><td>2.66797304153</td><td>2.09746527672</td><td>-0.494357675314</td><td>17.936460495</td><td>0.0</td></tr>\n",
       "<tr><td>201.925170651</td><td>346.582270476</td><td>4.43122468093</td><td>2.04955797789</td><td>-0.838679461755</td><td>2.1672372818</td><td>1.33561432362</td><td>-0.306796163321</td><td>11.4130105972</td><td>0.0</td></tr>\n",
       "<tr><td>375.33869984</td><td>350.526279815</td><td>1.1266782502</td><td>1.33864087036</td><td>-0.331831270889</td><td>1.25737988949</td><td>0.94038015604</td><td>-0.939969778061</td><td>2.79765462875</td><td>0.0</td></tr>\n",
       "<tr><td>4.70293979241</td><td>370.145229628</td><td>1.93283248488</td><td>3.92810222391</td><td>0.00477914827323</td><td>1.98194694519</td><td>1.39025938511</td><td>1.56840109825</td><td>11.5895671844</td><td>0.0</td></tr>\n",
       "<tr><td>206.664281251</td><td>381.531758732</td><td>2.00150465708</td><td>2.39205655025</td><td>0.0628629597789</td><td>1.54981470108</td><td>1.41125321388</td><td>1.41507518291</td><td>15.8327598572</td><td>1.0</td></tr>\n",
       "<tr><td>158.20016847</td><td>386.534577615</td><td>2.47294826458</td><td>2.8948276886</td><td>-0.710634547578</td><td>1.85072112083</td><td>1.39377450943</td><td>-0.92967247963</td><td>9.1931886673</td><td>0.0</td></tr>\n",
       "<tr><td>68.3073234468</td><td>394.056581834</td><td>1.69948164003</td><td>2.10165545709</td><td>-0.254652970807</td><td>1.49165797234</td><td>1.2554255724</td><td>-1.119597435</td><td>9.57646846771</td><td>0.0</td></tr>\n",
       "<tr><td>2.1750231942</td><td>397.386635831</td><td>2.8624805882</td><td>1.48908530365</td><td>0.314276406721</td><td>1.71201062202</td><td>1.19188308716</td><td>0.214604273438</td><td>7.44586658478</td><td>0.0</td></tr>\n",
       "<tr><td>107.078617936</td><td>398.345216241</td><td>3.59807987556</td><td>0.419567174786</td><td>0.0258808233046</td><td>1.89691603184</td><td>0.647577345371</td><td>0.00814171228558</td><td>4.87675237656</td><td>0.0</td></tr>\n",
       "</table>"
      ],
      "text/plain": [
       "<Table length=57>\n",
       "      x             y             x2       ...      flux     point_source\n",
       "   float64       float64       float64     ...    float64      float64   \n",
       "------------- ------------- -------------- ... ------------- ------------\n",
       "308.754997344 2.06837412783  2.85085962201 ... 15.1361637115          0.0\n",
       "289.247901505 3.87949484684  2.83404700123 ... 10.7689361572          0.0\n",
       "257.117552803 9.52864303905  2.11646897117 ... 27.6240844727          1.0\n",
       "23.5529669723 15.2519187282  1.85771139504 ... 7.81157064438          0.0\n",
       "398.611095041 22.9991457042 0.237657891863 ... 2.05110788345          0.0\n",
       "167.926590939 21.8721129849  3.49037195343 ... 21.7597293854          1.0\n",
       "185.915946864 20.7756128205   17.593632825 ... 507.236328125          0.0\n",
       "242.457483833 28.3989617067   2.8119161754 ... 64.6484832764          1.0\n",
       "314.416024617  32.626254065  1.02601409314 ...  1.7537099123          0.0\n",
       " 137.66472308 61.7846661466  2.07743107914 ...  6.2197933197          0.0\n",
       "          ...           ...            ... ...           ...          ...\n",
       "217.951450343 338.760193562   2.4617855416 ... 13.6404657364          0.0\n",
       "117.329779448 342.874013752  6.50604658641 ...  17.936460495          0.0\n",
       "201.925170651 346.582270476  4.43122468093 ... 11.4130105972          0.0\n",
       " 375.33869984 350.526279815   1.1266782502 ... 2.79765462875          0.0\n",
       "4.70293979241 370.145229628  1.93283248488 ... 11.5895671844          0.0\n",
       "206.664281251 381.531758732  2.00150465708 ... 15.8327598572          1.0\n",
       " 158.20016847 386.534577615  2.47294826458 ...  9.1931886673          0.0\n",
       "68.3073234468 394.056581834  1.69948164003 ... 9.57646846771          0.0\n",
       " 2.1750231942 397.386635831   2.8624805882 ... 7.44586658478          0.0\n",
       "107.078617936 398.345216241  3.59807987556 ... 4.87675237656          0.0"
      ]
     },
     "execution_count": 6,
     "metadata": {},
     "output_type": "execute_result"
    }
   ],
   "source": [
    "obj_cat"
   ]
  },
  {
   "cell_type": "code",
   "execution_count": 20,
   "metadata": {},
   "outputs": [],
   "source": [
    "sources=[]\n",
    "for i in range(len(obj_cat)):\n",
    "    x = obj_cat['x'][i]\n",
    "    y = obj_cat['y'][i]\n",
    "    flux = obj_cat['flux'][i]\n",
    "    # if the object is a point source, add it as such\n",
    "    if obj_cat['point_source'][i] == 1.0:\n",
    "        sources.append( tractor.PointSource(tractor.PixPos(x,y), tractor.Flux(flux)) )\n",
    "    else:\n",
    "        sources.append( tractor.ExpGalaxy(tractor.PixPos(x,y),tractor.Flux(flux)))"
   ]
  },
  {
   "cell_type": "code",
   "execution_count": 21,
   "metadata": {
    "scrolled": false
   },
   "outputs": [
    {
     "name": "stdout",
     "output_type": "stream",
     "text": [
      "57\n"
     ]
    }
   ],
   "source": [
    "print(len(sources))"
   ]
  },
  {
   "cell_type": "code",
   "execution_count": 23,
   "metadata": {},
   "outputs": [
    {
     "ename": "AttributeError",
     "evalue": "'Flux' object has no attribute 'getFlux'",
     "output_type": "error",
     "traceback": [
      "\u001b[0;31m---------------------------------------------------------------------------\u001b[0m",
      "\u001b[0;31mAttributeError\u001b[0m                            Traceback (most recent call last)",
      "\u001b[0;32m<ipython-input-23-dbbfb8edf558>\u001b[0m in \u001b[0;36m<module>\u001b[0;34m()\u001b[0m\n\u001b[1;32m      1\u001b[0m \u001b[0mtractor\u001b[0m \u001b[0;34m=\u001b[0m \u001b[0mTractor\u001b[0m\u001b[0;34m(\u001b[0m\u001b[0;34m[\u001b[0m\u001b[0mtim\u001b[0m\u001b[0;34m]\u001b[0m\u001b[0;34m,\u001b[0m \u001b[0msources\u001b[0m\u001b[0;34m)\u001b[0m\u001b[0;34m\u001b[0m\u001b[0m\n\u001b[1;32m      2\u001b[0m \u001b[0;34m\u001b[0m\u001b[0m\n\u001b[0;32m----> 3\u001b[0;31m \u001b[0mmod\u001b[0m \u001b[0;34m=\u001b[0m \u001b[0mtractor\u001b[0m\u001b[0;34m.\u001b[0m\u001b[0mgetModelImage\u001b[0m\u001b[0;34m(\u001b[0m\u001b[0;36m0\u001b[0m\u001b[0;34m)\u001b[0m\u001b[0;34m\u001b[0m\u001b[0m\n\u001b[0m\u001b[1;32m      4\u001b[0m \u001b[0;34m\u001b[0m\u001b[0m\n\u001b[1;32m      5\u001b[0m \u001b[0mplt\u001b[0m\u001b[0;34m.\u001b[0m\u001b[0mclf\u001b[0m\u001b[0;34m(\u001b[0m\u001b[0;34m)\u001b[0m\u001b[0;34m\u001b[0m\u001b[0m\n",
      "\u001b[0;32m/Users/danecross/anaconda/lib/python3.6/site-packages/tractor/engine.py\u001b[0m in \u001b[0;36mgetModelImage\u001b[0;34m(self, img, srcs, sky, minsb)\u001b[0m\n\u001b[1;32m    417\u001b[0m             \u001b[0;32mif\u001b[0m \u001b[0msrc\u001b[0m \u001b[0;32mis\u001b[0m \u001b[0;32mNone\u001b[0m\u001b[0;34m:\u001b[0m\u001b[0;34m\u001b[0m\u001b[0m\n\u001b[1;32m    418\u001b[0m                 \u001b[0;32mcontinue\u001b[0m\u001b[0;34m\u001b[0m\u001b[0m\n\u001b[0;32m--> 419\u001b[0;31m             \u001b[0mpatch\u001b[0m \u001b[0;34m=\u001b[0m \u001b[0mself\u001b[0m\u001b[0;34m.\u001b[0m\u001b[0mgetModelPatch\u001b[0m\u001b[0;34m(\u001b[0m\u001b[0mimg\u001b[0m\u001b[0;34m,\u001b[0m \u001b[0msrc\u001b[0m\u001b[0;34m,\u001b[0m \u001b[0mminsb\u001b[0m\u001b[0;34m=\u001b[0m\u001b[0mminsb\u001b[0m\u001b[0;34m)\u001b[0m\u001b[0;34m\u001b[0m\u001b[0m\n\u001b[0m\u001b[1;32m    420\u001b[0m             \u001b[0;32mif\u001b[0m \u001b[0mpatch\u001b[0m \u001b[0;32mis\u001b[0m \u001b[0;32mNone\u001b[0m\u001b[0;34m:\u001b[0m\u001b[0;34m\u001b[0m\u001b[0m\n\u001b[1;32m    421\u001b[0m                 \u001b[0;32mcontinue\u001b[0m\u001b[0;34m\u001b[0m\u001b[0m\n",
      "\u001b[0;32m/Users/danecross/anaconda/lib/python3.6/site-packages/tractor/engine.py\u001b[0m in \u001b[0;36mgetModelPatch\u001b[0;34m(self, img, src, **kwargs)\u001b[0m\n\u001b[1;32m    397\u001b[0m             \u001b[0;32mreturn\u001b[0m \u001b[0;32mNone\u001b[0m\u001b[0;34m\u001b[0m\u001b[0m\n\u001b[1;32m    398\u001b[0m \u001b[0;34m\u001b[0m\u001b[0m\n\u001b[0;32m--> 399\u001b[0;31m         \u001b[0mmod\u001b[0m \u001b[0;34m=\u001b[0m \u001b[0msrc\u001b[0m\u001b[0;34m.\u001b[0m\u001b[0mgetModelPatch\u001b[0m\u001b[0;34m(\u001b[0m\u001b[0mimg\u001b[0m\u001b[0;34m,\u001b[0m \u001b[0mmodelMask\u001b[0m\u001b[0;34m=\u001b[0m\u001b[0mmask\u001b[0m\u001b[0;34m,\u001b[0m \u001b[0;34m**\u001b[0m\u001b[0mkwargs\u001b[0m\u001b[0;34m)\u001b[0m\u001b[0;34m\u001b[0m\u001b[0m\n\u001b[0m\u001b[1;32m    400\u001b[0m         \u001b[0;32mreturn\u001b[0m \u001b[0mmod\u001b[0m\u001b[0;34m\u001b[0m\u001b[0m\n\u001b[1;32m    401\u001b[0m \u001b[0;34m\u001b[0m\u001b[0m\n",
      "\u001b[0;32m/Users/danecross/anaconda/lib/python3.6/site-packages/tractor/pointsource.py\u001b[0m in \u001b[0;36mgetModelPatch\u001b[0;34m(self, img, minsb, modelMask)\u001b[0m\n\u001b[1;32m     29\u001b[0m \u001b[0;34m\u001b[0m\u001b[0m\n\u001b[1;32m     30\u001b[0m     \u001b[0;32mdef\u001b[0m \u001b[0mgetModelPatch\u001b[0m\u001b[0;34m(\u001b[0m\u001b[0mself\u001b[0m\u001b[0;34m,\u001b[0m \u001b[0mimg\u001b[0m\u001b[0;34m,\u001b[0m \u001b[0mminsb\u001b[0m\u001b[0;34m=\u001b[0m\u001b[0;32mNone\u001b[0m\u001b[0;34m,\u001b[0m \u001b[0mmodelMask\u001b[0m\u001b[0;34m=\u001b[0m\u001b[0;32mNone\u001b[0m\u001b[0;34m)\u001b[0m\u001b[0;34m:\u001b[0m\u001b[0;34m\u001b[0m\u001b[0m\n\u001b[0;32m---> 31\u001b[0;31m         \u001b[0mcounts\u001b[0m \u001b[0;34m=\u001b[0m \u001b[0mimg\u001b[0m\u001b[0;34m.\u001b[0m\u001b[0mgetPhotoCal\u001b[0m\u001b[0;34m(\u001b[0m\u001b[0;34m)\u001b[0m\u001b[0;34m.\u001b[0m\u001b[0mbrightnessToCounts\u001b[0m\u001b[0;34m(\u001b[0m\u001b[0mself\u001b[0m\u001b[0;34m.\u001b[0m\u001b[0mbrightness\u001b[0m\u001b[0;34m)\u001b[0m\u001b[0;34m\u001b[0m\u001b[0m\n\u001b[0m\u001b[1;32m     32\u001b[0m         \u001b[0;32mif\u001b[0m \u001b[0mcounts\u001b[0m \u001b[0;34m==\u001b[0m \u001b[0;36m0\u001b[0m\u001b[0;34m:\u001b[0m\u001b[0;34m\u001b[0m\u001b[0m\n\u001b[1;32m     33\u001b[0m             \u001b[0;32mreturn\u001b[0m \u001b[0;32mNone\u001b[0m\u001b[0;34m\u001b[0m\u001b[0m\n",
      "\u001b[0;32m/Users/danecross/anaconda/lib/python3.6/site-packages/tractor/brightness.py\u001b[0m in \u001b[0;36mbrightnessToCounts\u001b[0;34m(self, brightness)\u001b[0m\n\u001b[1;32m    321\u001b[0m             \u001b[0mcounts\u001b[0m \u001b[0;34m=\u001b[0m \u001b[0mbrightness\u001b[0m\u001b[0;34m.\u001b[0m\u001b[0mgetValue\u001b[0m\u001b[0;34m(\u001b[0m\u001b[0;34m)\u001b[0m \u001b[0;34m*\u001b[0m \u001b[0mself\u001b[0m\u001b[0;34m.\u001b[0m\u001b[0mval\u001b[0m\u001b[0;34m\u001b[0m\u001b[0m\n\u001b[1;32m    322\u001b[0m         \u001b[0;32melse\u001b[0m\u001b[0;34m:\u001b[0m\u001b[0;34m\u001b[0m\u001b[0m\n\u001b[0;32m--> 323\u001b[0;31m             \u001b[0mcounts\u001b[0m \u001b[0;34m=\u001b[0m \u001b[0mbrightness\u001b[0m\u001b[0;34m.\u001b[0m\u001b[0mgetFlux\u001b[0m\u001b[0;34m(\u001b[0m\u001b[0mself\u001b[0m\u001b[0;34m.\u001b[0m\u001b[0mband\u001b[0m\u001b[0;34m)\u001b[0m \u001b[0;34m*\u001b[0m \u001b[0mself\u001b[0m\u001b[0;34m.\u001b[0m\u001b[0mval\u001b[0m\u001b[0;34m\u001b[0m\u001b[0m\n\u001b[0m\u001b[1;32m    324\u001b[0m         \u001b[0;32mreturn\u001b[0m \u001b[0mcounts\u001b[0m\u001b[0;34m\u001b[0m\u001b[0m\n\u001b[1;32m    325\u001b[0m \u001b[0;34m\u001b[0m\u001b[0m\n",
      "\u001b[0;31mAttributeError\u001b[0m: 'Flux' object has no attribute 'getFlux'"
     ]
    }
   ],
   "source": [
    "tractor = Tractor([tim], sources)\n",
    "\n",
    "mod = tractor.getModelImage(0,minsb=0.,srcs=sources)\n",
    "\n",
    "plt.clf()\n",
    "plt.imshow(np.log(mod + noisesigma),\n",
    "           interpolation='nearest', origin='lower', cmap='gray')\n",
    "plt.title('Galaxies')"
   ]
  },
  {
   "cell_type": "code",
   "execution_count": null,
   "metadata": {
    "collapsed": true
   },
   "outputs": [],
   "source": []
  }
 ],
 "metadata": {
  "kernelspec": {
   "display_name": "Python 3",
   "language": "python",
   "name": "python3"
  },
  "language_info": {
   "codemirror_mode": {
    "name": "ipython",
    "version": 3
   },
   "file_extension": ".py",
   "mimetype": "text/x-python",
   "name": "python",
   "nbconvert_exporter": "python",
   "pygments_lexer": "ipython3",
   "version": "3.6.1"
  }
 },
 "nbformat": 4,
 "nbformat_minor": 2
}
