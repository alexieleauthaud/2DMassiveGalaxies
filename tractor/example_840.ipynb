{
 "cells": [
  {
   "cell_type": "markdown",
   "metadata": {
    "collapsed": true
   },
   "source": [
    "This serves as an easier to understand example of what the main \"tractor_prep\" notebook does.\n",
    "\n",
    "## Basic Steps for Tractor preparation: \n",
    "\n",
    "1. Take the central 400x400 pixels of the image, sigma, and mask\n",
    "2. Perform background subtractin\n",
    "3. Detect all objects above the 5-sigma threshold\n",
    "4. Visualize these detections using the ellipse of each object (see above)\n",
    "5. Plot the half-lenght of major axis in unit of arcsec (a_arcsec) and the axis ratio of the ellipse (b_arcsec / a_arcsec); Select the a_arcsec < 0.35 and (b_arcsec / a_arcsec) > 0.9 objects as point sources.\n",
    "6. Create a astropy.table for each object, save the 'x, y, x2, y2, xy, a, b, theta, flux' inforamtion.\n",
    "7. Add a boolean column to indicate which object is point source.\n",
    "8. Save the table into a FITS catalog."
   ]
  },
  {
   "cell_type": "code",
   "execution_count": 1,
   "metadata": {
    "collapsed": true
   },
   "outputs": [],
   "source": [
    "import numpy as np\n",
    "import os\n",
    "import os.path\n",
    "\n",
    "# Set up matplotlib and use a nicer set of plot parameters\n",
    "import matplotlib\n",
    "import matplotlib.pyplot as plt\n",
    "from matplotlib.patches import Ellipse\n",
    "\n",
    "import sep\n",
    "import pylab\n",
    "\n",
    "from astropy.io import fits\n",
    "from astropy.wcs import WCS\n",
    "\n",
    "%matplotlib inline"
   ]
  },
  {
   "cell_type": "code",
   "execution_count": 2,
   "metadata": {},
   "outputs": [
    {
     "ename": "SyntaxError",
     "evalue": "invalid syntax (<ipython-input-2-0ea490f83bac>, line 10)",
     "output_type": "error",
     "traceback": [
      "\u001b[0;36m  File \u001b[0;32m\"<ipython-input-2-0ea490f83bac>\"\u001b[0;36m, line \u001b[0;32m10\u001b[0m\n\u001b[0;31m    img.writeto('img_data_crop_'+num_'.fits')\u001b[0m\n\u001b[0m                                           ^\u001b[0m\n\u001b[0;31mSyntaxError\u001b[0m\u001b[0;31m:\u001b[0m invalid syntax\n"
     ]
    }
   ],
   "source": [
    "#step 1\n",
    "num = '126'\n",
    "path = 'hsc_images/'+num+'/'\n",
    "\n",
    "img_data = fits.open(path+'redadd_'+num+'_HSC-I_full_img.fits')[0].data[400:800,400:800]\n",
    "sig_data = fits.open(path+'redadd_'+num+'_HSC-I_full_sig.fits')[0].data[400:800,400:800]\n",
    "msk_data = fits.open(path+'redadd_'+num+'_HSC-I_full_bad.fits')[0].data[400:800,400:800]\n",
    "\n",
    "img = fits.PrimaryHDU(img_data)\n",
    "img.writeto('img_data_crop_'+num_'.fits')\n",
    "\n",
    "sig = fits.PrimaryHDU(sig_data)\n",
    "sig.writeto('sig_data_crop_'+num+'.fits')"
   ]
  },
  {
   "cell_type": "code",
   "execution_count": null,
   "metadata": {
    "collapsed": true
   },
   "outputs": [],
   "source": [
    "# Change the byteorder (translate the bytes)\n",
    "img_data = img_data.byteswap().newbyteorder()\n",
    "sig_data = sig_data.byteswap().newbyteorder()\n",
    "msk_data = msk_data.byteswap().newbyteorder()"
   ]
  },
  {
   "cell_type": "code",
   "execution_count": null,
   "metadata": {
    "collapsed": true
   },
   "outputs": [],
   "source": [
    "#step 2\n",
    "bkg_model = sep.Background(img_data, mask=msk_data, bw=32, bh=32, fw=3, fh=3)\n",
    "img_sub = img_data - bkg_model.back()\n",
    "\n",
    "plt.imshow(np.arcsinh(img_sub),interpolation='none', origin='lower')"
   ]
  },
  {
   "cell_type": "code",
   "execution_count": null,
   "metadata": {
    "collapsed": true
   },
   "outputs": [],
   "source": [
    "#step 3\n",
    "obj_table, seg_data = sep.extract(img_sub, 5.0, err=sig_data, mask=msk_data, \n",
    "                                  minarea=5, deblend_nthresh=32, deblend_cont=0.001,\n",
    "                                  clean=True, segmentation_map=True)\n",
    "\n",
    "print(\"# Detect %d objects\" % len(obj_table))\n",
    "plt.imshow(seg_data, interpolation='none', origin='lower')"
   ]
  },
  {
   "cell_type": "code",
   "execution_count": null,
   "metadata": {
    "collapsed": true
   },
   "outputs": [],
   "source": [
    "#step 4\n",
    "#gets elliptical approximations of the ends of the galaxies\n",
    "\n",
    "fig, ax = plt.subplots()\n",
    "img_avg, img_std = np.mean(img_sub), np.std(img_sub)\n",
    "\n",
    "im = ax.imshow(img_sub, interpolation='nearest',\n",
    "               vmin=(img_avg - img_std), vmax=(img_avg + img_std), \n",
    "               origin='lower')\n",
    "\n",
    "for i in range(len(obj_table)):\n",
    "    e = Ellipse(xy=(obj_table['x'][i], \n",
    "                    obj_table['y'][i]),\n",
    "                width=(6 * obj_table['a'][i]),\n",
    "                height=(6 * obj_table['b'][i]),\n",
    "                angle=(obj_table['theta'][i] * 180. / np.pi))\n",
    "    e.set_facecolor('none')\n",
    "    e.set_edgecolor('red')\n",
    "    ax.add_artist(e)"
   ]
  },
  {
   "cell_type": "code",
   "execution_count": null,
   "metadata": {
    "collapsed": true
   },
   "outputs": [],
   "source": [
    "#step 5\n",
    "\n",
    "#get world coordinate system from header and scale pixels to WCS\n",
    "img_wcs = WCS(path+'redadd_'+num+'_HSC-I_full_img.fits') \n",
    "pixel_scale = np.abs(img_wcs.pixel_scale_matrix[0][0] * 3600.0) \n",
    "\n",
    "#get the arcsec length of major/minor axes\n",
    "a_arcsec, b_arcsec = (pixel_scale * obj_table['a']), (pixel_scale * obj_table['b']) "
   ]
  },
  {
   "cell_type": "code",
   "execution_count": null,
   "metadata": {
    "collapsed": true
   },
   "outputs": [],
   "source": [
    "# Plot the size v.s. shape \n",
    "plt.scatter(a_arcsec, (b_arcsec / a_arcsec), s=5)\n",
    "\n",
    "#plot the limits \n",
    "plt.axhline(0.9)\n",
    "plt.axvline(0.35)\n",
    "\n",
    "\"\"\"The points in the top left corner are considered point sources (stars).\"\"\""
   ]
  },
  {
   "cell_type": "code",
   "execution_count": null,
   "metadata": {
    "collapsed": true
   },
   "outputs": [],
   "source": [
    "#step 6\n",
    "\n",
    "from astropy.table import Table\n",
    "\n",
    "x = obj_table['x']\n",
    "y = obj_table['y']\n",
    "x2 = obj_table['x2']\n",
    "y2 = obj_table['y2']\n",
    "xy = obj_table['xy']\n",
    "a = obj_table['a']\n",
    "b = obj_table['b']\n",
    "theta = obj_table['theta']\n",
    "flux = obj_table['flux']\n",
    "\n",
    "point_source = [((b_arcsec[i]/ a_arcsec[i] > .9) and (a_arcsec[i]<.35)) for i in range(len(obj_table))]\n",
    "\n",
    "t = Table([x,y,x2,y2,xy,a,b,theta,flux,point_source], \n",
    "          names=('x', 'y', 'x2','y2','xy','a','b','theta','flux','point_source'), \n",
    "          meta={'name': 'object table'})"
   ]
  },
  {
   "cell_type": "code",
   "execution_count": null,
   "metadata": {
    "collapsed": true
   },
   "outputs": [],
   "source": [
    "#step 7\n",
    "tbhdu = fits.BinTableHDU.from_columns(\n",
    "     [fits.Column(name='x', format='D', array=np.array(x)),\n",
    "      fits.Column(name='y', format='D', array=np.array(y)),\n",
    "      fits.Column(name='x2', format = 'D', array=np.array(x2)),\n",
    "      fits.Column(name='y2', format = 'D', array=np.array(y2)),\n",
    "      fits.Column(name='xy', format = 'D', array=np.array(xy)),\n",
    "      fits.Column(name='a', format = 'D', array=np.array(a)),\n",
    "      fits.Column(name='b', format = 'D', array=np.array(b)),\n",
    "      fits.Column(name='theta', format = 'D', array=np.array(theta)),\n",
    "      fits.Column(name='flux', format = 'D', array=np.array(flux)),\n",
    "      fits.Column(name='point_source', format = 'L', array=np.array(point_source))])\n",
    "tbhdu.writeto('tractor_840.fits')"
   ]
  },
  {
   "cell_type": "code",
   "execution_count": null,
   "metadata": {
    "collapsed": true
   },
   "outputs": [],
   "source": []
  }
 ],
 "metadata": {
  "kernelspec": {
   "display_name": "Python 3",
   "language": "python",
   "name": "python3"
  },
  "language_info": {
   "codemirror_mode": {
    "name": "ipython",
    "version": 3
   },
   "file_extension": ".py",
   "mimetype": "text/x-python",
   "name": "python",
   "nbconvert_exporter": "python",
   "pygments_lexer": "ipython3",
   "version": "3.6.1"
  }
 },
 "nbformat": 4,
 "nbformat_minor": 2
}
