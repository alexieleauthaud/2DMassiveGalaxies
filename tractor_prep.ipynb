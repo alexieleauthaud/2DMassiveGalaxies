{
 "cells": [
  {
   "cell_type": "code",
   "execution_count": 1,
   "metadata": {
    "collapsed": true
   },
   "outputs": [],
   "source": [
    "import numpy as np\n",
    "%config InlineBackend.rc = {}\n",
    "import matplotlib as mpl\n",
    "import matplotlib.pyplot as plt\n",
    "%matplotlib inline\n",
    "\n",
    "from astropy.utils.data import download_file\n",
    "\n",
    "from astropy.io import fits\n",
    "from matplotlib.colors import PowerNorm\n",
    "\n",
    "import pylab\n",
    "import numpy"
   ]
  },
  {
   "cell_type": "code",
   "execution_count": 2,
   "metadata": {},
   "outputs": [],
   "source": [
    "\n",
    "\"\"\"\n",
    "    Computes the range of pixel values to use when adjusting the contrast\n",
    "    of FITs images using the zscale algorithm.  The zscale algorithm\n",
    "    originates in Iraf.  More information about it can be found in the help\n",
    "    section for DISPLAY in Iraf.\n",
    "    Briefly, the zscale algorithm uses an evenly distributed subsample of the\n",
    "    input image instead of a full histogram.  The subsample is sorted by\n",
    "    intensity and then fitted with an iterative least squares fit algorithm.\n",
    "    The endpoints of this fit give the range of pixel values to use when\n",
    "    adjusting the contrast.\n",
    "    Input:  image_data  -- the array of data contained in the FITs image\n",
    "                           (must have 2 dimensions)\n",
    "            contrast    -- the contrast parameter for the zscale algorithm\n",
    "            num_points  -- the number of points to use when sampling the\n",
    "                           image data\n",
    "            num_per_row -- number of points per row when sampling\n",
    "    \n",
    "    Return: 1.) The minimum pixel value to use when adjusting contrast\n",
    "            2.) The maximum pixel value to use when adjusting contrast\n",
    "    \"\"\"\n",
    "def zscale_range(image_data, contrast=0.25, num_points=600, num_per_row=120):\n",
    "    # check input shape\n",
    "    if len(image_data.shape) != 2:\n",
    "        raise ValueError(\"input data is not an image\")\n",
    "    # check contrast\n",
    "    if contrast <= 0.0:\n",
    "        contrast = 1.0\n",
    "    # check number of points to use is sane\n",
    "    if num_points > numpy.size(image_data) or num_points < 0:\n",
    "        num_points = 0.5 * numpy.size(image_data)\n",
    "        # determine the number of points in each column\n",
    "        num_per_col = int(float(num_points) / float(num_per_row) + 0.5)\n",
    "        # integers that determine how to sample the control points\n",
    "        xsize, ysize = image_data.shape\n",
    "        row_skip = float(xsize - 1) / float(num_per_row - 1)\n",
    "        col_skip = float(ysize - 1) / float(num_per_col - 1)\n",
    "        # create a regular subsampled grid which includes the corners and edges,\n",
    "        # indexing from 0 to xsize - 1, ysize - 1\n",
    "        data = []\n",
    "        for i in range(num_per_row):\n",
    "            x = int(i * row_skip + 0.5)\n",
    "        for j in range(num_per_col):\n",
    "            y = int(j * col_skip + 0.5)\n",
    "        data.append(image_data[x, y])\n",
    "        # actual number of points selected\n",
    "        num_pixels = len(data)\n",
    "        # sort the data by intensity\n",
    "        data.sort()\n",
    "        # check for a flat distribution of pixels\n",
    "        data_min = min(data)\n",
    "        data_max = max(data)\n",
    "        center_pixel = (num_pixels + 1) / 2\n",
    "        if data_min == data_max:\n",
    "            return data_min, data_max\n",
    "        # compute the median\n",
    "        if num_pixels % 2 == 0:\n",
    "            median = data[center_pixel - 1]\n",
    "        else:\n",
    "            median = 0.5 * (data[center_pixel - 1] + data[center_pixel])\n",
    "            # compute an iterative fit to intensity\n",
    "            pixel_indeces = map(float, xrange(num_pixels))\n",
    "            points = pointarray.PointArray(pixel_indeces, data, min_err=1.0e-4)\n",
    "            fit = points.sigmaIterate()\n",
    "            num_allowed = 0\n",
    "        for pt in points.allowedPoints():\n",
    "            num_allowed += 1\n",
    "        if num_allowed < int(num_pixels / 2.0):\n",
    "            return data_min, data_max\n",
    "        # compute the limits\n",
    "        z1 = median - (center_pixel - 1) * (fit.slope / contrast)\n",
    "        z2 = median + (num_pixels - center_pixel) * (fit.slope / contrast)\n",
    "        if z1 > data_min:\n",
    "            zmin = z1\n",
    "        else:\n",
    "            zmin = data_min\n",
    "        if z2 < data_max:\n",
    "            zmax = z2\n",
    "        else:\n",
    "            zmax = data_max\n",
    "        # last ditch sanity check\n",
    "        if zmin >= zmax:\n",
    "            zmin = data_min\n",
    "            zmax = data_max\n",
    "            \n",
    "        return zmin, zmax"
   ]
  },
  {
   "cell_type": "code",
   "execution_count": 3,
   "metadata": {},
   "outputs": [
    {
     "name": "stdout",
     "output_type": "stream",
     "text": [
      "Filename: hsc_images/redadd_126_HSC-I_full_bad.fits\n",
      "No.    Name      Ver    Type      Cards   Dimensions   Format\n",
      "  0  PRIMARY       1 PrimaryHDU      25   (1201, 1201)   uint8   \n"
     ]
    }
   ],
   "source": [
    "bad = fits.open('hsc_images/redadd_126_HSC-I_full_bad.fits')\n",
    "bad.info()"
   ]
  },
  {
   "cell_type": "code",
   "execution_count": 4,
   "metadata": {},
   "outputs": [],
   "source": [
    "bad = fits.open('hsc_images/redadd_126_HSC-I_full_bad.fits')\n",
    "bad_data = bad[0].data[400:800,400:800]\n",
    "bad.close()"
   ]
  },
  {
   "cell_type": "code",
   "execution_count": 5,
   "metadata": {},
   "outputs": [],
   "source": [
    "img = fits.open('hsc_images/redadd_126_HSC-I_full_img.fits')\n",
    "img_data = img[0].data[400:800,400:800]\n",
    "img.close()"
   ]
  },
  {
   "cell_type": "code",
   "execution_count": 6,
   "metadata": {},
   "outputs": [],
   "source": [
    "sigma = fits.open('hsc_images/redadd_126_HSC-I_full_sig.fits')\n",
    "sigma_data = sigma[0].data[400:800,400:800]\n",
    "sigma.close()"
   ]
  },
  {
   "cell_type": "code",
   "execution_count": 10,
   "metadata": {},
   "outputs": [],
   "source": [
    "bd_scale=mpl.colors.Normalize(0,zscale_range(bad_data))\n",
    "id_scale=mpl.colors.Normalize(0,zscale_range(img_data))\n",
    "sd_scale=mpl.colors.Normalize(0,zscale_range(sigma_data))"
   ]
  },
  {
   "cell_type": "code",
   "execution_count": 12,
   "metadata": {},
   "outputs": [
    {
     "data": {
      "image/png": "[encoded data removed]",
      "text/plain": [
       "<matplotlib.figure.Figure at 0x112070320>"
      ]
     },
     "metadata": {},
     "output_type": "display_data"
    }
   ],
   "source": [
    "b = plt.subplot(131)\n",
    "plt.imshow(bad_data,cmap='gray',norm=bd_scale)\n",
    "i = plt.subplot(132)\n",
    "plt.imshow(img_data,cmap='gray',norm=id_scale)\n",
    "s = plt.subplot(133)\n",
    "plt.imshow(sigma_data,cmap='gray',norm=sd_scale)\n",
    "\n",
    "axes = [ b, i, s ]\n",
    "for ax in axes:\n",
    "    ax.set_xticks([])\n",
    "    ax.set_yticks([])\n",
    "final_image = plt.subplots_adjust(wspace=0, hspace=0)\n",
    "\n",
    "pylab.savefig('redadd_126_HSC-I_full_concat.png', bbox_inches='tight')"
   ]
  },
  {
   "cell_type": "code",
   "execution_count": 9,
   "metadata": {
    "collapsed": true
   },
   "outputs": [],
   "source": [
    "from os import listdir\n",
    "from os.path import isfile, join\n",
    "\n",
    "images = [f for f in listdir('hsc_images/') if isfile(join('hsc_images/', f))]"
   ]
  },
  {
   "cell_type": "code",
   "execution_count": null,
   "metadata": {
    "collapsed": true
   },
   "outputs": [],
   "source": []
  }
 ],
 "metadata": {
  "kernelspec": {
   "display_name": "Python 3",
   "language": "python",
   "name": "python3"
  },
  "language_info": {
   "codemirror_mode": {
    "name": "ipython",
    "version": 3
   },
   "file_extension": ".py",
   "mimetype": "text/x-python",
   "name": "python",
   "nbconvert_exporter": "python",
   "pygments_lexer": "ipython3",
   "version": "3.6.1"
  }
 },
 "nbformat": 4,
 "nbformat_minor": 2
}
